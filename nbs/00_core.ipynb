{
 "cells": [
  {
   "cell_type": "markdown",
   "metadata": {},
   "source": [
    "# core\n",
    "\n",
    "> Fill in a module description here"
   ]
  },
  {
   "cell_type": "code",
   "execution_count": null,
   "metadata": {},
   "outputs": [],
   "source": [
    "#| default_exp core"
   ]
  },
  {
   "cell_type": "code",
   "execution_count": null,
   "metadata": {},
   "outputs": [],
   "source": [
    "#| hide \n",
    "\n",
    "from nbdev.showdoc import show_doc"
   ]
  },
  {
   "cell_type": "code",
   "execution_count": null,
   "metadata": {},
   "outputs": [],
   "source": [
    "#| exports \n",
    "\n",
    "from humble_database.database import Database\n",
    "from humble_database.data_model import DataModel,Query"
   ]
  },
  {
   "cell_type": "code",
   "execution_count": null,
   "metadata": {},
   "outputs": [
    {
     "data": {
      "text/markdown": [
       "---\n",
       "\n",
       "[source](https://github.com/schlinkertc/humble-database/blob/main/humble_database/database.py#LNone){target=\"_blank\" style=\"float:right; font-size:smaller\"}\n",
       "\n",
       "### Database\n",
       "\n",
       ">      Database (drivername:str, username:Optional[str]=None,\n",
       ">                password:Optional[pydantic.types.SecretStr]=None,\n",
       ">                host:Optional[str]=None, port:Optional[int]=None,\n",
       ">                database:Optional[str]=None, query:dict[str,str]={})\n",
       "\n",
       "Create a Database connection with default functionality. \n",
       "\n",
       "Inherits attributes from `DatabaseSettings` to manage credentials. Inherits methods from `AbstractDatabaseClass`.\n",
       "\n",
       "Use the class as-is to quickly create a database connection, or create a subclass to control connections to a specific database.\n",
       "\n",
       "More on SQL Alchemy engines from [SQLAlchemy docs](https://docs.sqlalchemy.org/en/13/core/engines.html):\n",
       "\n",
       "- The Engine is the starting point for any SQLAlchemy application. It’s “home base” for the actual database and its DBAPI.  \n",
       "- An Engine references both a Dialect and a Pool, which together interpret the DBAPI’s module functions as well as the behavior of the database \n",
       "- Pool object which will establish a DBAPI connection at localhost:5432 when a connection request is first received  \n",
       "-- Note that the Engine and its underlying Pool do **not** establish the first actual DBAPI connection until the Engine.connect() method is called, or an operation which is dependent on this method such as Engine.execute() is invoked.\n",
       "- In this way, Engine and Pool can be said to have a lazy initialization behavior.  \n",
       "- The Engine, once created, can either be used directly to interact with the database, or can be passed to a Session object to work with the ORM."
      ],
      "text/plain": [
       "---\n",
       "\n",
       "[source](https://github.com/schlinkertc/humble-database/blob/main/humble_database/database.py#LNone){target=\"_blank\" style=\"float:right; font-size:smaller\"}\n",
       "\n",
       "### Database\n",
       "\n",
       ">      Database (drivername:str, username:Optional[str]=None,\n",
       ">                password:Optional[pydantic.types.SecretStr]=None,\n",
       ">                host:Optional[str]=None, port:Optional[int]=None,\n",
       ">                database:Optional[str]=None, query:dict[str,str]={})\n",
       "\n",
       "Create a Database connection with default functionality. \n",
       "\n",
       "Inherits attributes from `DatabaseSettings` to manage credentials. Inherits methods from `AbstractDatabaseClass`.\n",
       "\n",
       "Use the class as-is to quickly create a database connection, or create a subclass to control connections to a specific database.\n",
       "\n",
       "More on SQL Alchemy engines from [SQLAlchemy docs](https://docs.sqlalchemy.org/en/13/core/engines.html):\n",
       "\n",
       "- The Engine is the starting point for any SQLAlchemy application. It’s “home base” for the actual database and its DBAPI.  \n",
       "- An Engine references both a Dialect and a Pool, which together interpret the DBAPI’s module functions as well as the behavior of the database \n",
       "- Pool object which will establish a DBAPI connection at localhost:5432 when a connection request is first received  \n",
       "-- Note that the Engine and its underlying Pool do **not** establish the first actual DBAPI connection until the Engine.connect() method is called, or an operation which is dependent on this method such as Engine.execute() is invoked.\n",
       "- In this way, Engine and Pool can be said to have a lazy initialization behavior.  \n",
       "- The Engine, once created, can either be used directly to interact with the database, or can be passed to a Session object to work with the ORM."
      ]
     },
     "execution_count": null,
     "metadata": {},
     "output_type": "execute_result"
    }
   ],
   "source": [
    "show_doc(Database)"
   ]
  },
  {
   "cell_type": "code",
   "execution_count": null,
   "metadata": {},
   "outputs": [
    {
     "data": {
      "text/markdown": [
       "---\n",
       "\n",
       "[source](https://github.com/schlinkertc/humble-database/blob/main/humble_database/data_model.py#LNone){target=\"_blank\" style=\"float:right; font-size:smaller\"}\n",
       "\n",
       "### DataModel\n",
       "\n",
       ">      DataModel (data:List[~DataModelT])\n",
       "\n",
       "A Generic Data Model. The data attribute contains a list of objects of an arbitrary type. It is intended for use with a Pydantic model. \n",
       "\n",
       "Supports rich __repr__ displays in HTML and Javascript for use in Jupyter Notebook and Lab, respectively.\n",
       "\n",
       "|    | **Type** | **Details** |\n",
       "| -- | -------- | ----------- |\n",
       "| data | Any |  |\n",
       "| **Returns** | **None** | **type: ignore** |"
      ],
      "text/plain": [
       "---\n",
       "\n",
       "[source](https://github.com/schlinkertc/humble-database/blob/main/humble_database/data_model.py#LNone){target=\"_blank\" style=\"float:right; font-size:smaller\"}\n",
       "\n",
       "### DataModel\n",
       "\n",
       ">      DataModel (data:List[~DataModelT])\n",
       "\n",
       "A Generic Data Model. The data attribute contains a list of objects of an arbitrary type. It is intended for use with a Pydantic model. \n",
       "\n",
       "Supports rich __repr__ displays in HTML and Javascript for use in Jupyter Notebook and Lab, respectively.\n",
       "\n",
       "|    | **Type** | **Details** |\n",
       "| -- | -------- | ----------- |\n",
       "| data | Any |  |\n",
       "| **Returns** | **None** | **type: ignore** |"
      ]
     },
     "execution_count": null,
     "metadata": {},
     "output_type": "execute_result"
    }
   ],
   "source": [
    "show_doc(DataModel)"
   ]
  },
  {
   "cell_type": "code",
   "execution_count": null,
   "metadata": {},
   "outputs": [
    {
     "data": {
      "text/markdown": [
       "---\n",
       "\n",
       "[source](https://github.com/schlinkertc/humble-database/blob/main/humble_database/data_model.py#LNone){target=\"_blank\" style=\"float:right; font-size:smaller\"}\n",
       "\n",
       "### Query\n",
       "\n",
       ">      Query (data:List[~DataModelT]=[], query:str)\n",
       "\n",
       "A Generic Data Model. The data attribute contains a list of objects of an arbitrary type. It is intended for use with a Pydantic model. \n",
       "\n",
       "Supports rich __repr__ displays in HTML and Javascript for use in Jupyter Notebook and Lab, respectively.\n",
       "\n",
       "|    | **Type** | **Details** |\n",
       "| -- | -------- | ----------- |\n",
       "| data | Any |  |\n",
       "| **Returns** | **None** | **type: ignore** |"
      ],
      "text/plain": [
       "---\n",
       "\n",
       "[source](https://github.com/schlinkertc/humble-database/blob/main/humble_database/data_model.py#LNone){target=\"_blank\" style=\"float:right; font-size:smaller\"}\n",
       "\n",
       "### Query\n",
       "\n",
       ">      Query (data:List[~DataModelT]=[], query:str)\n",
       "\n",
       "A Generic Data Model. The data attribute contains a list of objects of an arbitrary type. It is intended for use with a Pydantic model. \n",
       "\n",
       "Supports rich __repr__ displays in HTML and Javascript for use in Jupyter Notebook and Lab, respectively.\n",
       "\n",
       "|    | **Type** | **Details** |\n",
       "| -- | -------- | ----------- |\n",
       "| data | Any |  |\n",
       "| **Returns** | **None** | **type: ignore** |"
      ]
     },
     "execution_count": null,
     "metadata": {},
     "output_type": "execute_result"
    }
   ],
   "source": [
    "show_doc(Query)"
   ]
  },
  {
   "cell_type": "code",
   "execution_count": null,
   "metadata": {},
   "outputs": [],
   "source": [
    "#| hide \n",
    "import nbdev; nbdev.nbdev_export()"
   ]
  },
  {
   "cell_type": "code",
   "execution_count": null,
   "metadata": {},
   "outputs": [],
   "source": []
  }
 ],
 "metadata": {
  "kernelspec": {
   "display_name": "python3",
   "language": "python",
   "name": "python3"
  }
 },
 "nbformat": 4,
 "nbformat_minor": 4
}
