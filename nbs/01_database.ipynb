{
 "cells": [
  {
   "cell_type": "markdown",
   "id": "42576c8a-e331-4b48-a16d-402c62537ce4",
   "metadata": {},
   "source": [
    "# database\n",
    "> Using Pydantic's BaseSettings object to manage SQLAlchemy Database engines."
   ]
  },
  {
   "cell_type": "code",
   "execution_count": null,
   "id": "65f964dd-162b-470b-9046-025e54a188d5",
   "metadata": {},
   "outputs": [],
   "source": [
    "#| default_exp database"
   ]
  },
  {
   "cell_type": "code",
   "execution_count": null,
   "id": "5b03dc7f-b03a-4318-a655-231b961adb91",
   "metadata": {},
   "outputs": [],
   "source": [
    "#| exporti\n",
    "\n",
    "from humble_database.utils import delegates\n",
    "\n",
    "## SQL Alchemy version\n",
    "import sqlalchemy\n",
    "if int(sqlalchemy.__version__[0]) < 2:\n",
    "    \n",
    "    from sqlalchemy.engine.url import URL\n",
    "    from sqlalchemy.engine import create_engine,Engine\n",
    "    from snowflake.sqlalchemy import URL as SnowflakeURL\n",
    "\n",
    "else:\n",
    "    from sqlalchemy import URL\n",
    "    from sqlalchemy import create_engine, Engine\n",
    "    \n",
    "from sqlalchemy.orm import Session\n",
    "from pydantic import SecretStr, Field\n",
    "from pydantic_settings import BaseSettings, SettingsConfigDict\n",
    "from typing import Optional,Union\n",
    "from abc import ABC, abstractproperty,abstractmethod\n",
    "from contextlib import contextmanager\n",
    "import pandas as pd\n",
    "from sqlalchemy import text\n"
   ]
  },
  {
   "cell_type": "code",
   "execution_count": null,
   "id": "707cc41e-ac32-430c-8091-0d3a50f680ea",
   "metadata": {},
   "outputs": [],
   "source": [
    "#| hide \n",
    "\n",
    "from nbdev.showdoc import show_doc\n",
    "import os"
   ]
  },
  {
   "cell_type": "markdown",
   "id": "992c5b1f-e194-4838-9b78-7846b79b625a",
   "metadata": {},
   "source": [
    "## SQL Alchemy Connection\n",
    "> To create our Database connections, we will use SQL Alchemy's `URL` object"
   ]
  },
  {
   "cell_type": "markdown",
   "id": "b37bfb3d-a9bd-45a1-8dba-89df912dca3b",
   "metadata": {},
   "source": [
    "The following is from the SQL Alchemy fucntional documentation:"
   ]
  },
  {
   "cell_type": "code",
   "execution_count": null,
   "id": "724477ef-16a0-4d2a-9196-ea0f29cce067",
   "metadata": {},
   "outputs": [
    {
     "data": {
      "text/markdown": [
       "---\n",
       "\n",
       "### URL.create\n",
       "\n",
       ">      URL.create (drivername:str, username:Optional[str]=None,\n",
       ">                  password:Optional[str]=None, host:Optional[str]=None,\n",
       ">                  port:Optional[int]=None, database:Optional[str]=None, query:M\n",
       ">                  apping[str,Union[Sequence[str],str]]=immutabledict({}))\n",
       "\n",
       "Create a new :class:`_engine.URL` object.\n",
       "\n",
       ".. seealso::\n",
       "\n",
       "    :ref:`database_urls`\n",
       "\n",
       ":param drivername: the name of the database backend. This name will\n",
       "  correspond to a module in sqlalchemy/databases or a third party\n",
       "  plug-in.\n",
       ":param username: The user name.\n",
       ":param password: database password.  Is typically a string, but may\n",
       "  also be an object that can be stringified with ``str()``.\n",
       "\n",
       "  .. note::  A password-producing object will be stringified only\n",
       "     **once** per :class:`_engine.Engine` object.  For dynamic password\n",
       "     generation per connect, see :ref:`engines_dynamic_tokens`.\n",
       "\n",
       ":param host: The name of the host.\n",
       ":param port: The port number.\n",
       ":param database: The database name.\n",
       ":param query: A dictionary of string keys to string values to be passed\n",
       "  to the dialect and/or the DBAPI upon connect.   To specify non-string\n",
       "  parameters to a Python DBAPI directly, use the\n",
       "  :paramref:`_sa.create_engine.connect_args` parameter to\n",
       "  :func:`_sa.create_engine`.   See also\n",
       "  :attr:`_engine.URL.normalized_query` for a dictionary that is\n",
       "  consistently string->list of string.\n",
       ":return: new :class:`_engine.URL` object.\n",
       "\n",
       ".. versionadded:: 1.4\n",
       "\n",
       "    The :class:`_engine.URL` object is now an **immutable named\n",
       "    tuple**.  In addition, the ``query`` dictionary is also immutable.\n",
       "    To create a URL, use the :func:`_engine.url.make_url` or\n",
       "    :meth:`_engine.URL.create` function/ method.  To modify a\n",
       "    :class:`_engine.URL`, use the :meth:`_engine.URL.set` and\n",
       "    :meth:`_engine.URL.update_query` methods."
      ],
      "text/plain": [
       "---\n",
       "\n",
       "### URL.create\n",
       "\n",
       ">      URL.create (drivername:str, username:Optional[str]=None,\n",
       ">                  password:Optional[str]=None, host:Optional[str]=None,\n",
       ">                  port:Optional[int]=None, database:Optional[str]=None, query:M\n",
       ">                  apping[str,Union[Sequence[str],str]]=immutabledict({}))\n",
       "\n",
       "Create a new :class:`_engine.URL` object.\n",
       "\n",
       ".. seealso::\n",
       "\n",
       "    :ref:`database_urls`\n",
       "\n",
       ":param drivername: the name of the database backend. This name will\n",
       "  correspond to a module in sqlalchemy/databases or a third party\n",
       "  plug-in.\n",
       ":param username: The user name.\n",
       ":param password: database password.  Is typically a string, but may\n",
       "  also be an object that can be stringified with ``str()``.\n",
       "\n",
       "  .. note::  A password-producing object will be stringified only\n",
       "     **once** per :class:`_engine.Engine` object.  For dynamic password\n",
       "     generation per connect, see :ref:`engines_dynamic_tokens`.\n",
       "\n",
       ":param host: The name of the host.\n",
       ":param port: The port number.\n",
       ":param database: The database name.\n",
       ":param query: A dictionary of string keys to string values to be passed\n",
       "  to the dialect and/or the DBAPI upon connect.   To specify non-string\n",
       "  parameters to a Python DBAPI directly, use the\n",
       "  :paramref:`_sa.create_engine.connect_args` parameter to\n",
       "  :func:`_sa.create_engine`.   See also\n",
       "  :attr:`_engine.URL.normalized_query` for a dictionary that is\n",
       "  consistently string->list of string.\n",
       ":return: new :class:`_engine.URL` object.\n",
       "\n",
       ".. versionadded:: 1.4\n",
       "\n",
       "    The :class:`_engine.URL` object is now an **immutable named\n",
       "    tuple**.  In addition, the ``query`` dictionary is also immutable.\n",
       "    To create a URL, use the :func:`_engine.url.make_url` or\n",
       "    :meth:`_engine.URL.create` function/ method.  To modify a\n",
       "    :class:`_engine.URL`, use the :meth:`_engine.URL.set` and\n",
       "    :meth:`_engine.URL.update_query` methods."
      ]
     },
     "execution_count": null,
     "metadata": {},
     "output_type": "execute_result"
    }
   ],
   "source": [
    "show_doc(URL.create)"
   ]
  },
  {
   "cell_type": "markdown",
   "id": "2b9f29da-4f95-48c5-87f1-84795d56f958",
   "metadata": {},
   "source": [
    "## Database Settings\n",
    "> A Pydantic model that controls argumetns passed to the SQL alchemy URL constructor"
   ]
  },
  {
   "cell_type": "code",
   "execution_count": null,
   "id": "89a7229c-abea-4668-badd-48193b3c8383",
   "metadata": {},
   "outputs": [],
   "source": [
    "#| exporti\n",
    "\n",
    "class DatabaseSettingsBase(BaseSettings):\n",
    "    username: Optional[str]=None\n",
    "    password: Optional[SecretStr]=None"
   ]
  },
  {
   "cell_type": "code",
   "execution_count": null,
   "id": "fcb31d1c-7f16-4ceb-8604-24d082d5d820",
   "metadata": {},
   "outputs": [],
   "source": [
    "#| exporti\n",
    "\n",
    "class DatabaseSettings(DatabaseSettingsBase):\n",
    "    drivername:str \n",
    "    host: Optional[str]=None\n",
    "    port: Optional[int]=None\n",
    "    database: Optional[str]=None\n",
    "    query: dict[str,str]={}\n",
    "    "
   ]
  },
  {
   "cell_type": "code",
   "execution_count": null,
   "id": "d58734d1-51a2-4857-8c71-54f57ed73ee8",
   "metadata": {},
   "outputs": [],
   "source": [
    "#| exporti \n",
    "\n",
    "class SnowflakeSettings(DatabaseSettingsBase):\n",
    "\n",
    "    \"\"\"Passed to special Snowflake URL constructor\"\"\"\n",
    "    model_config = SettingsConfigDict(env_prefix='snowflake_',env_file = '.env')\n",
    "    \n",
    "    account: str = 'rentprogress'\n",
    "    database: Optional[str] = 'TRANSFORM_PROD'\n",
    "    snowflake_schema: Optional[str] = Field(\n",
    "        'EDW',\n",
    "        env='snowflake_schema',\n",
    "        alias='schema',\n",
    "        description=\"\"\"passed to the SQLAlchemy URL constructor as 'schema', \n",
    "        but we need to alias it to avoid clashing with 'BaseSettings'\"\"\")\n",
    "    warehouse: Optional[str] = 'ADHOC_WH'\n",
    "    role: Optional[str] = 'DATA_DEVELOPER'\n",
    "    numpy: Optional[bool] = True\n",
    "\n",
    "    "
   ]
  },
  {
   "cell_type": "code",
   "execution_count": null,
   "id": "e494f111-d76b-4af0-9f44-5b52a5e50945",
   "metadata": {},
   "outputs": [
    {
     "data": {
      "text/plain": [
       "DatabaseSettings(username=None, password=None, drivername='sqlite', host=None, port=None, database='test.db', query={})"
      ]
     },
     "execution_count": null,
     "metadata": {},
     "output_type": "execute_result"
    }
   ],
   "source": [
    "settings = DatabaseSettings(\n",
    "    drivername='sqlite',\n",
    "    database='test.db',\n",
    ")\n",
    "settings"
   ]
  },
  {
   "cell_type": "code",
   "execution_count": null,
   "id": "bd49174a-97b5-4dd9-be4e-f6e6db65db91",
   "metadata": {},
   "outputs": [
    {
     "data": {
      "text/plain": [
       "Engine(sqlite:///test.db)"
      ]
     },
     "execution_count": null,
     "metadata": {},
     "output_type": "execute_result"
    }
   ],
   "source": [
    "url = URL.create(\n",
    "    **settings.model_dump()\n",
    ")\n",
    "engine = create_engine(url)\n",
    "engine"
   ]
  },
  {
   "cell_type": "markdown",
   "id": "066325fc-b486-402f-8bdb-52e36e1e54ea",
   "metadata": {},
   "source": [
    "#### Why use Pydantic for Database Settings? \n",
    "> Pydantic's `BaseSettings` object comes with support for environment variables and secret strings"
   ]
  },
  {
   "cell_type": "code",
   "execution_count": null,
   "id": "d910403f-dcef-4882-a54e-dd34a92da706",
   "metadata": {},
   "outputs": [
    {
     "name": "stdout",
     "output_type": "stream",
     "text": [
      "password prints as a secret: **********\n"
     ]
    }
   ],
   "source": [
    "# set some environment variables\n",
    "os.environ['username']='humble_chuck'\n",
    "os.environ['password']='super secret passkey'\n",
    "\n",
    "# pydantic automatically reads them\n",
    "settings = DatabaseSettings(drivername='mysql')\n",
    "assert settings.username == 'humble_chuck'\n",
    "\n",
    "# pydantic also keeps your password safe from displays\n",
    "print(f\"password prints as a secret: {settings.password}\")\n",
    "\n",
    "# by default, __init__ values take precedence over environment variables\n",
    "alternate_settings = DatabaseSettings(drivername='mysql',username='some_other_person')\n",
    "assert alternate_settings.username == 'some_other_person'\n",
    "\n",
    "for k in ('username','password'):\n",
    "    os.environ.pop(k)"
   ]
  },
  {
   "cell_type": "code",
   "execution_count": null,
   "id": "64eb5dd6-1c6a-42fa-974e-7c1eeb368d5d",
   "metadata": {},
   "outputs": [],
   "source": [
    "#| export\n",
    "\n",
    "class AbstractDatabaseClass(ABC):\n",
    "\n",
    "    \"\"\"\n",
    "    Abstract Base Class used to define methods for all Database Connections. \n",
    "\n",
    "    A seperate Base Class is required because Snowflake Database Settings will behave differently, and thus they will need their own Database Settings class.\n",
    "    \"\"\"\n",
    "\n",
    "    def query_to_records(\n",
    "        self,\n",
    "        query_string:str,\n",
    "    ):\n",
    "        with self._engine.connect() as conn:\n",
    "            results = [row for row in conn.execute(text(query_string)).mappings()]\n",
    "        return results\n",
    "\n",
    "    @delegates(pd.read_sql_query)\n",
    "    def query_to_df(\n",
    "        self,\n",
    "        query_string,\n",
    "        **kwargs\n",
    "    ):\n",
    "        f\"\"\"{pd.read_sql_query.__doc__}\"\"\"\n",
    "        with self._engine.connect() as conn:\n",
    "            df = pd.read_sql_query(query_string,conn,**kwargs)\n",
    "        return df\n",
    "\n",
    "    @contextmanager\n",
    "    def engine_scope(self,**kwargs):\n",
    "        with self._engine.connect() as conn: \n",
    "            try:\n",
    "                yield conn\n",
    "                conn.commit()\n",
    "            except:\n",
    "                raise\n",
    "            finally:\n",
    "                conn.close()\n",
    "                \n",
    "    @contextmanager\n",
    "    def session_scope(self,bind=None,**kwargs):\n",
    "        \"\"\"Provide a transactional scope around a series of operations.\"\"\"\n",
    "\n",
    "        session = Session(bind=self._engine,**kwargs)\n",
    "        try:\n",
    "            yield session\n",
    "            session.commit()\n",
    "        except:\n",
    "            session.rollback()\n",
    "            raise\n",
    "        finally:\n",
    "            session.close()\n"
   ]
  },
  {
   "cell_type": "code",
   "execution_count": null,
   "id": "a9f65f97-aab6-46bd-86c2-46818ee6daf3",
   "metadata": {},
   "outputs": [],
   "source": [
    "#| export \n",
    "\n",
    "class Database(DatabaseSettings,AbstractDatabaseClass):\n",
    "    \"\"\"\n",
    "    Create a Database connection with default functionality. \n",
    "    \n",
    "    Inherits attributes from `DatabaseSettings` to manage credentials. Inherits methods from `AbstractDatabaseClass`.\n",
    "\n",
    "    Use the class as-is to quickly create a database connection, or create a subclass to control connections to a specific database.\n",
    "    \n",
    "    More on SQL Alchemy engines from [SQLAlchemy docs](https://docs.sqlalchemy.org/en/13/core/engines.html):\n",
    "    \n",
    "    - The Engine is the starting point for any SQLAlchemy application. It’s “home base” for the actual database and its DBAPI.  \n",
    "    - An Engine references both a Dialect and a Pool, which together interpret the DBAPI’s module functions as well as the behavior of the database \n",
    "    - Pool object which will establish a DBAPI connection at localhost:5432 when a connection request is first received  \n",
    "    -- Note that the Engine and its underlying Pool do **not** establish the first actual DBAPI connection until the Engine.connect() method is called, or an operation which is dependent on this method such as Engine.execute() is invoked.\n",
    "    - In this way, Engine and Pool can be said to have a lazy initialization behavior.  \n",
    "    - The Engine, once created, can either be used directly to interact with the database, or can be passed to a Session object to work with the ORM.  \n",
    "    \"\"\"\n",
    "    _engine:Engine = None\n",
    "    _engine_url:URL = None\n",
    "\n",
    "    def __init__(\n",
    "        self,\n",
    "        **kwargs\n",
    "    ):\n",
    "        # settings __init__\n",
    "        super().__init__(**kwargs)\n",
    "        if hasattr(self.password,'get_secret_value'):\n",
    "            \n",
    "            password = self.password.get_secret_value()\n",
    "            \n",
    "        else:\n",
    "            password = self.password\n",
    "        url = URL.create(\n",
    "            drivername=self.drivername,\n",
    "            username=self.username,\n",
    "            password=password,\n",
    "            host=self.host,\n",
    "            port=self.port,\n",
    "            database=self.database,\n",
    "            query=self.query\n",
    "        )\n",
    "        self._engine_url=url\n",
    "        self._engine=create_engine(url)\n",
    "\n",
    "    \n",
    "    model_config = SettingsConfigDict(\n",
    "        #allows for attributes of `database settings` to be set as defaults in subclasses without type annotation\n",
    "        ignored_types=(int,str,dict),\n",
    "        arbitrary_types_allowed=True\n",
    "    )\n",
    "    "
   ]
  },
  {
   "cell_type": "code",
   "execution_count": null,
   "id": "db653da1-0daf-49e0-9590-d9c9e8f5c7fd",
   "metadata": {},
   "outputs": [],
   "source": [
    "#| export \n",
    "\n",
    "class Snowflake(SnowflakeSettings,AbstractDatabaseClass):\n",
    "    \"\"\"\n",
    "    Create a Database connection with default functionality. \n",
    "    \n",
    "    Inherits attributes from `DatabaseSettings` to manage credentials. Inherits methods from `AbstractDatabaseClass`.\n",
    "\n",
    "    Use the class as-is to quickly create a database connection, or create a subclass to control connections to a specific database.\n",
    "    \n",
    "    More on SQL Alchemy engines from [SQLAlchemy docs](https://docs.sqlalchemy.org/en/13/core/engines.html):\n",
    "    \n",
    "    - The Engine is the starting point for any SQLAlchemy application. It’s “home base” for the actual database and its DBAPI.  \n",
    "    - An Engine references both a Dialect and a Pool, which together interpret the DBAPI’s module functions as well as the behavior of the database \n",
    "    - Pool object which will establish a DBAPI connection at localhost:5432 when a connection request is first received  \n",
    "    -- Note that the Engine and its underlying Pool do **not** establish the first actual DBAPI connection until the Engine.connect() method is called, or an operation which is dependent on this method such as Engine.execute() is invoked.\n",
    "    - In this way, Engine and Pool can be said to have a lazy initialization behavior.  \n",
    "    - The Engine, once created, can either be used directly to interact with the database, or can be passed to a Session object to work with the ORM.  \n",
    "    \"\"\"\n",
    "    _engine:Engine = None\n",
    "    _engine_url:URL = None\n",
    "\n",
    "    def __init__(\n",
    "        self,\n",
    "        **kwargs\n",
    "    ):\n",
    "        # settings __init__\n",
    "        super().__init__(**kwargs)\n",
    "        if hasattr(self.password,'get_secret_value'):\n",
    "            \n",
    "            password = self.password.get_secret_value()\n",
    "            \n",
    "        else:\n",
    "            password = self.password\n",
    "        url = SnowflakeURL(\n",
    "            user=self.username,\n",
    "            password=password,\n",
    "            account=self.account,\n",
    "            warehouse=self.warehouse,\n",
    "            database=self.database,\n",
    "            schema = self.snowflake_schema,\n",
    "            numpy=self.numpy\n",
    "        )\n",
    "        self._engine_url=url\n",
    "        self._engine=create_engine(url)\n",
    "\n",
    "    \n",
    "    model_config = SettingsConfigDict(\n",
    "        #allows for attributes of `database settings` to be set as defaults in subclasses without type annotation\n",
    "        ignored_types=(int,str,dict),\n",
    "        arbitrary_types_allowed=True,\n",
    "        \n",
    "    )"
   ]
  },
  {
   "cell_type": "markdown",
   "id": "071dc30a-bd7c-47f7-ab8b-0d6d1193b29b",
   "metadata": {},
   "source": [
    "## Examples:"
   ]
  },
  {
   "cell_type": "markdown",
   "id": "63fe6ae8-5414-43c1-9234-5dc39af521bb",
   "metadata": {},
   "source": [
    "To use the `Database` as-is, pass the desired variables to the constructor: "
   ]
  },
  {
   "cell_type": "code",
   "execution_count": null,
   "id": "367bc05d-91c5-4270-b067-991cee7f3dc0",
   "metadata": {},
   "outputs": [
    {
     "name": "stdout",
     "output_type": "stream",
     "text": [
      "username=None password=None drivername='sqlite' host=None port=None database='test.db' query={}\n"
     ]
    }
   ],
   "source": [
    "db = Database(drivername='sqlite',database='test.db')\n",
    "print(db)"
   ]
  },
  {
   "cell_type": "code",
   "execution_count": null,
   "id": "9e2014b5-b3da-4a1a-ae20-01b9394ba890",
   "metadata": {},
   "outputs": [
    {
     "name": "stdout",
     "output_type": "stream",
     "text": [
      "<class 'sqlalchemy.pool.base._ConnectionFairy'>\n",
      "<class 'sqlalchemy.engine.base.Connection'>\n",
      "True\n"
     ]
    }
   ],
   "source": [
    "with db._engine.connect() as conn: \n",
    "    print(type(conn.connection))\n",
    "    print(type(conn))\n",
    "    print(hasattr(conn,'commit'))\n",
    "    "
   ]
  },
  {
   "cell_type": "code",
   "execution_count": null,
   "id": "b2639c21-75c5-4026-bd6b-1818aecb6177",
   "metadata": {},
   "outputs": [],
   "source": [
    "users = pd.DataFrame({\n",
    "    'id':[1,2,3],\n",
    "    'user':['larry','moe','curly']\n",
    "})\n",
    "\n",
    "with db.engine_scope() as conn:\n",
    "    users.to_sql('users',conn,if_exists='replace',index=False)\n",
    "\n",
    "queried = db.query_to_df(\"select * from users\")\n",
    "\n",
    "assert queried.equals(users)\n",
    "os.remove('test.db')"
   ]
  },
  {
   "cell_type": "markdown",
   "id": "6669811c-3daf-4024-adcc-14b9cd53dd9c",
   "metadata": {},
   "source": [
    "### Create a sub-class to handle connections to a specific database"
   ]
  },
  {
   "cell_type": "code",
   "execution_count": null,
   "id": "2a293d79-0b0d-42de-a759-1dfec01bff35",
   "metadata": {},
   "outputs": [
    {
     "data": {
      "text/plain": [
       "RNACentralDatabase(username='reader', password=SecretStr('**********'), drivername='postgresql', host='hh-pgsql-public.ebi.ac.uk', port=5432, database='pfmegrnargs', query={})"
      ]
     },
     "execution_count": null,
     "metadata": {},
     "output_type": "execute_result"
    }
   ],
   "source": [
    "class RNACentralDatabase(Database):\n",
    "    model_config = SettingsConfigDict(env_prefix='rna_db_')\n",
    "    \n",
    "    drivername='postgresql'\n",
    "    database='pfmegrnargs'\n",
    "    host='hh-pgsql-public.ebi.ac.uk'\n",
    "    port=5432\n",
    "    \n",
    "\n",
    "os.environ['rna_db_username']='reader'\n",
    "os.environ['rna_db_password']='NWDMCE5xdipIjRrp'\n",
    "\n",
    "rna_db = RNACentralDatabase()\n",
    "rna_db"
   ]
  },
  {
   "cell_type": "code",
   "execution_count": null,
   "id": "a42b3b4b-a13b-419b-9999-56bc4a6044ff",
   "metadata": {},
   "outputs": [
    {
     "data": {
      "text/html": [
       "<div>\n",
       "<style scoped>\n",
       "    .dataframe tbody tr th:only-of-type {\n",
       "        vertical-align: middle;\n",
       "    }\n",
       "\n",
       "    .dataframe tbody tr th {\n",
       "        vertical-align: top;\n",
       "    }\n",
       "\n",
       "    .dataframe thead th {\n",
       "        text-align: right;\n",
       "    }\n",
       "</style>\n",
       "<table border=\"1\" class=\"dataframe\">\n",
       "  <thead>\n",
       "    <tr style=\"text-align: right;\">\n",
       "      <th></th>\n",
       "      <th>id</th>\n",
       "      <th>timestamp</th>\n",
       "      <th>userstamp</th>\n",
       "      <th>descr</th>\n",
       "      <th>current_release</th>\n",
       "      <th>full_descr</th>\n",
       "      <th>alive</th>\n",
       "      <th>for_release</th>\n",
       "      <th>display_name</th>\n",
       "      <th>project_id</th>\n",
       "      <th>avg_length</th>\n",
       "      <th>min_length</th>\n",
       "      <th>max_length</th>\n",
       "      <th>num_sequences</th>\n",
       "      <th>num_organisms</th>\n",
       "      <th>description</th>\n",
       "      <th>url</th>\n",
       "      <th>example</th>\n",
       "      <th>reference</th>\n",
       "    </tr>\n",
       "  </thead>\n",
       "  <tbody>\n",
       "    <tr>\n",
       "      <th>0</th>\n",
       "      <td>1</td>\n",
       "      <td>2017-05-01 00:00:00.000000</td>\n",
       "      <td>RNACEN</td>\n",
       "      <td>ENA</td>\n",
       "      <td>884</td>\n",
       "      <td>ENA</td>\n",
       "      <td>Y</td>\n",
       "      <td></td>\n",
       "      <td>ENA</td>\n",
       "      <td></td>\n",
       "      <td>412.0</td>\n",
       "      <td>10.0</td>\n",
       "      <td>900074.0</td>\n",
       "      <td>12086180</td>\n",
       "      <td>814855</td>\n",
       "      <td>provides a comprehensive record of the world's...</td>\n",
       "      <td>https://www.ebi.ac.uk/ena/browser/</td>\n",
       "      <td>[{'upi': 'URS00002D0E0C', 'taxid': 10090}, {'u...</td>\n",
       "      <td>[{'title': 'The European Nucleotide Archive in...</td>\n",
       "    </tr>\n",
       "    <tr>\n",
       "      <th>1</th>\n",
       "      <td>5</td>\n",
       "      <td>2017-05-17 00:00:00.000000</td>\n",
       "      <td>RNACEN</td>\n",
       "      <td>VEGA</td>\n",
       "      <td>98</td>\n",
       "      <td>VEGA</td>\n",
       "      <td>N</td>\n",
       "      <td></td>\n",
       "      <td>VEGA</td>\n",
       "      <td>PRJEB4568</td>\n",
       "      <td>NaN</td>\n",
       "      <td>NaN</td>\n",
       "      <td>NaN</td>\n",
       "      <td>0</td>\n",
       "      <td>0</td>\n",
       "      <td>is a repository for high-quality gene models p...</td>\n",
       "      <td>http://vega.sanger.ac.uk/</td>\n",
       "      <td>[{'upi': 'URS00000B15DA', 'taxid': 9606}, {'up...</td>\n",
       "      <td>[{'title': 'The GENCODE v7 catalog of human lo...</td>\n",
       "    </tr>\n",
       "    <tr>\n",
       "      <th>2</th>\n",
       "      <td>26</td>\n",
       "      <td>2017-05-01 00:00:00.000000</td>\n",
       "      <td>RNACEN</td>\n",
       "      <td>GENCODE</td>\n",
       "      <td>450</td>\n",
       "      <td>GENCODE</td>\n",
       "      <td>N</td>\n",
       "      <td></td>\n",
       "      <td>GENCODE</td>\n",
       "      <td></td>\n",
       "      <td>889.0</td>\n",
       "      <td>32.0</td>\n",
       "      <td>205012.0</td>\n",
       "      <td>47677</td>\n",
       "      <td>2</td>\n",
       "      <td>produces high quality reference gene annotatio...</td>\n",
       "      <td>http://gencodegenes.org/</td>\n",
       "      <td>[{'upi': 'URS00000B15DA', 'taxid': 9606}, {'up...</td>\n",
       "      <td>[{'title': 'GENCODE: the reference human genom...</td>\n",
       "    </tr>\n",
       "    <tr>\n",
       "      <th>3</th>\n",
       "      <td>55</td>\n",
       "      <td>2023-10-10 15:02:45.191606</td>\n",
       "      <td>RNACEN</td>\n",
       "      <td>MGNIFY</td>\n",
       "      <td>839</td>\n",
       "      <td>MGnify</td>\n",
       "      <td>Y</td>\n",
       "      <td>None</td>\n",
       "      <td>MGnify</td>\n",
       "      <td>None</td>\n",
       "      <td>151.0</td>\n",
       "      <td>27.0</td>\n",
       "      <td>3514.0</td>\n",
       "      <td>135924</td>\n",
       "      <td>1929</td>\n",
       "      <td>None</td>\n",
       "      <td>None</td>\n",
       "      <td>None</td>\n",
       "      <td>None</td>\n",
       "    </tr>\n",
       "    <tr>\n",
       "      <th>4</th>\n",
       "      <td>41</td>\n",
       "      <td>2017-05-01 00:00:00.000000</td>\n",
       "      <td>RNACEN</td>\n",
       "      <td>GENECARDS</td>\n",
       "      <td>867</td>\n",
       "      <td>MalaCards</td>\n",
       "      <td>Y</td>\n",
       "      <td></td>\n",
       "      <td>GeneCards</td>\n",
       "      <td></td>\n",
       "      <td>1298.0</td>\n",
       "      <td>16.0</td>\n",
       "      <td>347561.0</td>\n",
       "      <td>517673</td>\n",
       "      <td>1</td>\n",
       "      <td>is a searchable, integrative database that pro...</td>\n",
       "      <td>https://www.genecards.org/</td>\n",
       "      <td>[{'upi': 'URS0000EBFCE3', 'taxid': 9606}, {'up...</td>\n",
       "      <td>[{'title': 'The GeneCards Suite: From Gene Dat...</td>\n",
       "    </tr>\n",
       "  </tbody>\n",
       "</table>\n",
       "</div>"
      ],
      "text/plain": [
       "   id                  timestamp userstamp      descr  current_release  \\\n",
       "0   1 2017-05-01 00:00:00.000000    RNACEN        ENA              884   \n",
       "1   5 2017-05-17 00:00:00.000000    RNACEN       VEGA               98   \n",
       "2  26 2017-05-01 00:00:00.000000    RNACEN    GENCODE              450   \n",
       "3  55 2023-10-10 15:02:45.191606    RNACEN     MGNIFY              839   \n",
       "4  41 2017-05-01 00:00:00.000000    RNACEN  GENECARDS              867   \n",
       "\n",
       "  full_descr alive for_release display_name project_id  avg_length  \\\n",
       "0        ENA     Y                      ENA                  412.0   \n",
       "1       VEGA     N                     VEGA  PRJEB4568         NaN   \n",
       "2    GENCODE     N                  GENCODE                  889.0   \n",
       "3     MGnify     Y        None       MGnify       None       151.0   \n",
       "4  MalaCards     Y                GeneCards                 1298.0   \n",
       "\n",
       "   min_length  max_length  num_sequences  num_organisms  \\\n",
       "0        10.0    900074.0       12086180         814855   \n",
       "1         NaN         NaN              0              0   \n",
       "2        32.0    205012.0          47677              2   \n",
       "3        27.0      3514.0         135924           1929   \n",
       "4        16.0    347561.0         517673              1   \n",
       "\n",
       "                                         description  \\\n",
       "0  provides a comprehensive record of the world's...   \n",
       "1  is a repository for high-quality gene models p...   \n",
       "2  produces high quality reference gene annotatio...   \n",
       "3                                               None   \n",
       "4  is a searchable, integrative database that pro...   \n",
       "\n",
       "                                  url  \\\n",
       "0  https://www.ebi.ac.uk/ena/browser/   \n",
       "1           http://vega.sanger.ac.uk/   \n",
       "2            http://gencodegenes.org/   \n",
       "3                                None   \n",
       "4          https://www.genecards.org/   \n",
       "\n",
       "                                             example  \\\n",
       "0  [{'upi': 'URS00002D0E0C', 'taxid': 10090}, {'u...   \n",
       "1  [{'upi': 'URS00000B15DA', 'taxid': 9606}, {'up...   \n",
       "2  [{'upi': 'URS00000B15DA', 'taxid': 9606}, {'up...   \n",
       "3                                               None   \n",
       "4  [{'upi': 'URS0000EBFCE3', 'taxid': 9606}, {'up...   \n",
       "\n",
       "                                           reference  \n",
       "0  [{'title': 'The European Nucleotide Archive in...  \n",
       "1  [{'title': 'The GENCODE v7 catalog of human lo...  \n",
       "2  [{'title': 'GENCODE: the reference human genom...  \n",
       "3                                               None  \n",
       "4  [{'title': 'The GeneCards Suite: From Gene Dat...  "
      ]
     },
     "execution_count": null,
     "metadata": {},
     "output_type": "execute_result"
    }
   ],
   "source": [
    "rna_db.query_to_df(\"\"\"select * from rnc_database limit 5\"\"\")"
   ]
  },
  {
   "cell_type": "code",
   "execution_count": null,
   "id": "4d69abdb-d77e-4f0d-aaf7-5688afd715d8",
   "metadata": {},
   "outputs": [
    {
     "data": {
      "text/plain": [
       "{'id': 1, 'timestamp': datetime.datetime(2017, 5, 1, 0, 0)}"
      ]
     },
     "execution_count": null,
     "metadata": {},
     "output_type": "execute_result"
    }
   ],
   "source": [
    "rna_db.query_to_records(\"select id,timestamp from rnc_database limit 1\")[0]"
   ]
  },
  {
   "cell_type": "code",
   "execution_count": null,
   "id": "e723e8cf-c875-4c86-a561-3c43ce4d29d4",
   "metadata": {},
   "outputs": [
    {
     "name": "stdout",
     "output_type": "stream",
     "text": [
      "(1, datetime.datetime(2017, 5, 1, 0, 0), 'RNACEN', 'ENA', 884, 'ENA', 'Y', ' ', 'ENA', '', 412, 10, 900074, 12086180, 814855, \"provides a comprehensive record of the world's nucleotide sequencing information\", 'https://www.ebi.ac.uk/ena/browser/', [{'upi': 'URS00002D0E0C', 'taxid': 10090}, {'upi': 'URS000035EE7E', 'taxid': 9606}, {'upi': 'URS0000000001', 'taxid': 77133}], [{'title': 'The European Nucleotide Archive in 2017', 'authors': 'Silvester et al.', 'journal': 'Nucleic Acids Res. 2017', 'pubmed_id': '29140475'}])\n"
     ]
    }
   ],
   "source": [
    "with rna_db.engine_scope() as conn: \n",
    "    result = conn.execute(text(\"\"\"select * from rnc_database limit 5\"\"\"))\n",
    "    print(result.fetchall()[0])"
   ]
  },
  {
   "cell_type": "code",
   "execution_count": null,
   "id": "4b551b19-bc76-4c6a-899d-e743ba2f34ba",
   "metadata": {},
   "outputs": [],
   "source": [
    "#| hide\n",
    "\n",
    "!nbdev_export"
   ]
  },
  {
   "cell_type": "code",
   "execution_count": null,
   "id": "3493dba3-4cf9-4e84-a8bc-7b09d2139d4b",
   "metadata": {},
   "outputs": [],
   "source": []
  }
 ],
 "metadata": {
  "kernelspec": {
   "display_name": "python3",
   "language": "python",
   "name": "python3"
  }
 },
 "nbformat": 4,
 "nbformat_minor": 5
}
