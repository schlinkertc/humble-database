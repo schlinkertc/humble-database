{
 "cells": [
  {
   "cell_type": "markdown",
   "id": "42576c8a-e331-4b48-a16d-402c62537ce4",
   "metadata": {},
   "source": [
    "# database\n",
    "> Using Pydantic's BaseSettings object to manage SQLAlchemy Database engines."
   ]
  },
  {
   "cell_type": "code",
   "execution_count": null,
   "id": "65f964dd-162b-470b-9046-025e54a188d5",
   "metadata": {},
   "outputs": [],
   "source": [
    "#| default_exp database"
   ]
  },
  {
   "cell_type": "code",
   "execution_count": null,
   "id": "5b03dc7f-b03a-4318-a655-231b961adb91",
   "metadata": {},
   "outputs": [],
   "source": [
    "#| exporti\n",
    "\n",
    "from humble_database.utils import delegates\n",
    "import sqlalchemy\n",
    "from sqlalchemy import create_engine, URL, Engine\n",
    "from sqlalchemy.orm import Session\n",
    "from pydantic import SecretStr\n",
    "from pydantic_settings import BaseSettings, SettingsConfigDict\n",
    "from typing import Optional,Union\n",
    "from abc import ABC, abstractproperty,abstractmethod\n",
    "from contextlib import contextmanager\n",
    "import pandas as pd\n",
    "from sqlalchemy import text"
   ]
  },
  {
   "cell_type": "code",
   "execution_count": null,
   "id": "707cc41e-ac32-430c-8091-0d3a50f680ea",
   "metadata": {},
   "outputs": [],
   "source": [
    "#| hide \n",
    "\n",
    "from nbdev.showdoc import show_doc\n",
    "import os"
   ]
  },
  {
   "cell_type": "markdown",
   "id": "992c5b1f-e194-4838-9b78-7846b79b625a",
   "metadata": {},
   "source": [
    "## SQL Alchemy Connection"
   ]
  },
  {
   "cell_type": "code",
   "execution_count": null,
   "id": "724477ef-16a0-4d2a-9196-ea0f29cce067",
   "metadata": {},
   "outputs": [
    {
     "data": {
      "text/markdown": [
       "---\n",
       "\n",
       "### URL.create\n",
       "\n",
       ">      URL.create (drivername:str, username:Optional[str]=None,\n",
       ">                  password:Optional[str]=None, host:Optional[str]=None,\n",
       ">                  port:Optional[int]=None, database:Optional[str]=None, query:M\n",
       ">                  apping[str,Union[Sequence[str],str]]=immutabledict({}))\n",
       "\n",
       "Create a new :class:`_engine.URL` object.\n",
       "\n",
       ".. seealso::\n",
       "\n",
       "    :ref:`database_urls`\n",
       "\n",
       ":param drivername: the name of the database backend. This name will\n",
       "  correspond to a module in sqlalchemy/databases or a third party\n",
       "  plug-in.\n",
       ":param username: The user name.\n",
       ":param password: database password.  Is typically a string, but may\n",
       "  also be an object that can be stringified with ``str()``.\n",
       "\n",
       "  .. note::  A password-producing object will be stringified only\n",
       "     **once** per :class:`_engine.Engine` object.  For dynamic password\n",
       "     generation per connect, see :ref:`engines_dynamic_tokens`.\n",
       "\n",
       ":param host: The name of the host.\n",
       ":param port: The port number.\n",
       ":param database: The database name.\n",
       ":param query: A dictionary of string keys to string values to be passed\n",
       "  to the dialect and/or the DBAPI upon connect.   To specify non-string\n",
       "  parameters to a Python DBAPI directly, use the\n",
       "  :paramref:`_sa.create_engine.connect_args` parameter to\n",
       "  :func:`_sa.create_engine`.   See also\n",
       "  :attr:`_engine.URL.normalized_query` for a dictionary that is\n",
       "  consistently string->list of string.\n",
       ":return: new :class:`_engine.URL` object.\n",
       "\n",
       ".. versionadded:: 1.4\n",
       "\n",
       "    The :class:`_engine.URL` object is now an **immutable named\n",
       "    tuple**.  In addition, the ``query`` dictionary is also immutable.\n",
       "    To create a URL, use the :func:`_engine.url.make_url` or\n",
       "    :meth:`_engine.URL.create` function/ method.  To modify a\n",
       "    :class:`_engine.URL`, use the :meth:`_engine.URL.set` and\n",
       "    :meth:`_engine.URL.update_query` methods."
      ],
      "text/plain": [
       "---\n",
       "\n",
       "### URL.create\n",
       "\n",
       ">      URL.create (drivername:str, username:Optional[str]=None,\n",
       ">                  password:Optional[str]=None, host:Optional[str]=None,\n",
       ">                  port:Optional[int]=None, database:Optional[str]=None, query:M\n",
       ">                  apping[str,Union[Sequence[str],str]]=immutabledict({}))\n",
       "\n",
       "Create a new :class:`_engine.URL` object.\n",
       "\n",
       ".. seealso::\n",
       "\n",
       "    :ref:`database_urls`\n",
       "\n",
       ":param drivername: the name of the database backend. This name will\n",
       "  correspond to a module in sqlalchemy/databases or a third party\n",
       "  plug-in.\n",
       ":param username: The user name.\n",
       ":param password: database password.  Is typically a string, but may\n",
       "  also be an object that can be stringified with ``str()``.\n",
       "\n",
       "  .. note::  A password-producing object will be stringified only\n",
       "     **once** per :class:`_engine.Engine` object.  For dynamic password\n",
       "     generation per connect, see :ref:`engines_dynamic_tokens`.\n",
       "\n",
       ":param host: The name of the host.\n",
       ":param port: The port number.\n",
       ":param database: The database name.\n",
       ":param query: A dictionary of string keys to string values to be passed\n",
       "  to the dialect and/or the DBAPI upon connect.   To specify non-string\n",
       "  parameters to a Python DBAPI directly, use the\n",
       "  :paramref:`_sa.create_engine.connect_args` parameter to\n",
       "  :func:`_sa.create_engine`.   See also\n",
       "  :attr:`_engine.URL.normalized_query` for a dictionary that is\n",
       "  consistently string->list of string.\n",
       ":return: new :class:`_engine.URL` object.\n",
       "\n",
       ".. versionadded:: 1.4\n",
       "\n",
       "    The :class:`_engine.URL` object is now an **immutable named\n",
       "    tuple**.  In addition, the ``query`` dictionary is also immutable.\n",
       "    To create a URL, use the :func:`_engine.url.make_url` or\n",
       "    :meth:`_engine.URL.create` function/ method.  To modify a\n",
       "    :class:`_engine.URL`, use the :meth:`_engine.URL.set` and\n",
       "    :meth:`_engine.URL.update_query` methods."
      ]
     },
     "execution_count": null,
     "metadata": {},
     "output_type": "execute_result"
    }
   ],
   "source": [
    "show_doc(URL.create)"
   ]
  },
  {
   "cell_type": "code",
   "execution_count": null,
   "id": "fcb31d1c-7f16-4ceb-8604-24d082d5d820",
   "metadata": {},
   "outputs": [],
   "source": [
    "#| export \n",
    "\n",
    "class DatabaseSettings(BaseSettings):\n",
    "    drivername:str\n",
    "    username: Optional[str]=None\n",
    "    password: Optional[SecretStr]=None\n",
    "    host: Optional[str]=None\n",
    "    port: Optional[int]=None\n",
    "    database: Optional[str]=None\n",
    "    query: dict[str,str]={}\n",
    "    \n"
   ]
  },
  {
   "cell_type": "code",
   "execution_count": null,
   "id": "e494f111-d76b-4af0-9f44-5b52a5e50945",
   "metadata": {},
   "outputs": [
    {
     "data": {
      "text/plain": [
       "DatabaseSettings(drivername='sqlite', username=None, password=None, host=None, port=None, database='test.db', query={})"
      ]
     },
     "execution_count": null,
     "metadata": {},
     "output_type": "execute_result"
    }
   ],
   "source": [
    "settings = DatabaseSettings(\n",
    "    drivername='sqlite',\n",
    "    database='test.db',\n",
    ")\n",
    "settings"
   ]
  },
  {
   "cell_type": "code",
   "execution_count": null,
   "id": "58caf428-d143-490d-901e-59cc8373d1a7",
   "metadata": {},
   "outputs": [
    {
     "data": {
      "text/plain": [
       "sqlite:///test.db"
      ]
     },
     "execution_count": null,
     "metadata": {},
     "output_type": "execute_result"
    }
   ],
   "source": [
    "url = URL.create(\n",
    "    **settings.model_dump()\n",
    ")\n",
    "url"
   ]
  },
  {
   "cell_type": "code",
   "execution_count": null,
   "id": "d2401610-309f-4846-b2d9-a57905acd744",
   "metadata": {},
   "outputs": [
    {
     "data": {
      "text/plain": [
       "Engine(sqlite:///test.db)"
      ]
     },
     "execution_count": null,
     "metadata": {},
     "output_type": "execute_result"
    }
   ],
   "source": [
    "engine = create_engine(url)\n",
    "engine"
   ]
  },
  {
   "cell_type": "code",
   "execution_count": null,
   "id": "64eb5dd6-1c6a-42fa-974e-7c1eeb368d5d",
   "metadata": {},
   "outputs": [],
   "source": [
    "#| exporti \n",
    "\n",
    "class AbstractDatabaseClass(ABC):\n",
    "\n",
    "    \"\"\"\n",
    "    Abstract Base Class for all Database Connections.\n",
    "\n",
    "    <br><br>\n",
    "    From [SQLAlchemy docs](https://docs.sqlalchemy.org/en/13/core/engines.html):\n",
    "    > The Engine is the starting point for any SQLAlchemy application. It’s “home base” for the actual database and its DBAPI.\n",
    "    > An Engine references both a Dialect and a Pool, which together interpret the DBAPI’s module functions as well as the behavior of the database <br><br>\n",
    "    > Pool object which will establish a DBAPI connection at localhost:5432 when a connection request is first received\n",
    "    > - Note that the Engine and its underlying Pool do **not** establish the first actual DBAPI connection until the Engine.connect() method is called, or an operation which is dependent on this method such as Engine.execute() is invoked.\n",
    "    > - In this way, Engine and Pool can be said to have a lazy initialization behavior.\n",
    "    >\n",
    "    > The Engine, once created, can either be used directly to interact with the database, or can be passed to a Session object to work with the ORM.\n",
    "\n",
    "    \"\"\"\n",
    "\n",
    "    def query_to_records(\n",
    "        self,\n",
    "        query_string:str,\n",
    "    ):\n",
    "        with self._engine.connect() as conn:\n",
    "            results = [row for row in conn.execute(text(query_string)).mappings()]\n",
    "        return results\n",
    "\n",
    "    @delegates(pd.read_sql_query)\n",
    "    def query_to_df(\n",
    "        self,\n",
    "        query_string,\n",
    "        **kwargs\n",
    "    ):\n",
    "        f\"\"\"{pd.read_sql_query.__doc__}\"\"\"\n",
    "        with self._engine.connect() as conn:\n",
    "            df = pd.read_sql_query(query_string,conn,**kwargs)\n",
    "        return df\n",
    "\n",
    "    @contextmanager\n",
    "    def session_scope(self,bind=None,**kwargs):\n",
    "        \"\"\"Provide a transactional scope around a series of operations.\"\"\"\n",
    "\n",
    "        session = Session(bind=self._engine,**kwargs)\n",
    "        try:\n",
    "            yield session\n",
    "            session.commit()\n",
    "        except:\n",
    "            session.rollback()\n",
    "            raise\n",
    "        finally:\n",
    "            session.close()\n"
   ]
  },
  {
   "cell_type": "code",
   "execution_count": null,
   "id": "a9f65f97-aab6-46bd-86c2-46818ee6daf3",
   "metadata": {},
   "outputs": [],
   "source": [
    "#| export \n",
    "\n",
    "class Database(DatabaseSettings,AbstractDatabaseClass):\n",
    "    \n",
    "    _engine:Engine = None\n",
    "    _engine_url:URL = None\n",
    "\n",
    "    def __init__(\n",
    "        self,\n",
    "        **kwargs\n",
    "    ):\n",
    "        # settings __init__\n",
    "        super().__init__(**kwargs)\n",
    "        if hasattr(self.password,'get_secret_value'):\n",
    "            \n",
    "            password = self.password.get_secret_value()\n",
    "            print(password)\n",
    "        else:\n",
    "            password = self.password\n",
    "        url = URL.create(\n",
    "            drivername=self.drivername,\n",
    "            username=self.username,\n",
    "            password=password,\n",
    "            host=self.host,\n",
    "            port=self.port,\n",
    "            database=self.database,\n",
    "            query=self.query\n",
    "        )\n",
    "        self._engine_url=url\n",
    "        self._engine=create_engine(url)\n",
    "\n",
    "    \n",
    "    model_config = SettingsConfigDict(\n",
    "        #allows for attributes of `database settings` to be set as defaults in subclasses without type annotation\n",
    "        ignored_types=(int,str,dict),\n",
    "        arbitrary_types_allowed=True\n",
    "    )\n",
    "    "
   ]
  },
  {
   "cell_type": "code",
   "execution_count": null,
   "id": "17e9ac86-ca99-410b-8171-8316f7690c79",
   "metadata": {},
   "outputs": [
    {
     "data": {
      "text/plain": [
       "Database(drivername='sqlite', username=None, password=None, host=None, port=None, database='test.db', query={})"
      ]
     },
     "execution_count": null,
     "metadata": {},
     "output_type": "execute_result"
    }
   ],
   "source": [
    "database = Database(drivername='sqlite',database='test.db')\n",
    "database"
   ]
  },
  {
   "cell_type": "code",
   "execution_count": null,
   "id": "ed817d43-703b-46d1-b34c-a0e60ff81acf",
   "metadata": {},
   "outputs": [],
   "source": [
    "db = Database(drivername='sqlite',database='test.db')\n",
    "\n",
    "users = pd.DataFrame({\n",
    "    'id':[1,2,3],\n",
    "    'user':['larry','moe','curly']\n",
    "})\n",
    "\n",
    "users.to_sql('users',db._engine,if_exists='replace',index=False)\n",
    "\n",
    "queried = db.query_to_df(\"select * from users\")\n",
    "\n",
    "assert queried.equals(users)\n",
    "os.remove('test.db')"
   ]
  },
  {
   "cell_type": "code",
   "execution_count": null,
   "id": "4b551b19-bc76-4c6a-899d-e743ba2f34ba",
   "metadata": {},
   "outputs": [],
   "source": [
    "#| hide\n",
    "\n",
    "!nbdev_export"
   ]
  },
  {
   "cell_type": "code",
   "execution_count": null,
   "id": "3493dba3-4cf9-4e84-a8bc-7b09d2139d4b",
   "metadata": {},
   "outputs": [],
   "source": []
  }
 ],
 "metadata": {
  "kernelspec": {
   "display_name": "python3",
   "language": "python",
   "name": "python3"
  }
 },
 "nbformat": 4,
 "nbformat_minor": 5
}
