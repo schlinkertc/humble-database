{
 "cells": [
  {
   "cell_type": "markdown",
   "id": "42576c8a-e331-4b48-a16d-402c62537ce4",
   "metadata": {},
   "source": [
    "# database\n",
    "> Using Pydantic's BaseSettings object to manage SQLAlchemy Database engines."
   ]
  },
  {
   "cell_type": "code",
   "execution_count": null,
   "id": "65f964dd-162b-470b-9046-025e54a188d5",
   "metadata": {},
   "outputs": [],
   "source": [
    "#| default_exp database"
   ]
  },
  {
   "cell_type": "code",
   "execution_count": null,
   "id": "5b03dc7f-b03a-4318-a655-231b961adb91",
   "metadata": {},
   "outputs": [
    {
     "ename": "ImportError",
     "evalue": "dlopen(/Users/schlinkertc/opt/anaconda3/envs/humble-database/lib/python3.11/site-packages/cryptography/hazmat/bindings/_rust.abi3.so, 0x0002): tried: '/Users/schlinkertc/opt/anaconda3/envs/humble-database/lib/python3.11/site-packages/cryptography/hazmat/bindings/_rust.abi3.so' (mach-o file, but is an incompatible architecture (have 'arm64', need 'x86_64')), '/System/Volumes/Preboot/Cryptexes/OS/Users/schlinkertc/opt/anaconda3/envs/humble-database/lib/python3.11/site-packages/cryptography/hazmat/bindings/_rust.abi3.so' (no such file), '/Users/schlinkertc/opt/anaconda3/envs/humble-database/lib/python3.11/site-packages/cryptography/hazmat/bindings/_rust.abi3.so' (mach-o file, but is an incompatible architecture (have 'arm64', need 'x86_64'))",
     "output_type": "error",
     "traceback": [
      "\u001b[0;31m---------------------------------------------------------------------------\u001b[0m",
      "\u001b[0;31mImportError\u001b[0m                               Traceback (most recent call last)",
      "Cell \u001b[0;32mIn[2], line 14\u001b[0m\n\u001b[1;32m     12\u001b[0m     \u001b[38;5;28;01mfrom\u001b[39;00m \u001b[38;5;21;01msqlalchemy\u001b[39;00m \u001b[38;5;28;01mimport\u001b[39;00m URL\n\u001b[1;32m     13\u001b[0m     \u001b[38;5;28;01mfrom\u001b[39;00m \u001b[38;5;21;01msqlalchemy\u001b[39;00m \u001b[38;5;28;01mimport\u001b[39;00m create_engine, Engine\n\u001b[0;32m---> 14\u001b[0m \u001b[38;5;28;01mfrom\u001b[39;00m \u001b[38;5;21;01msnowflake\u001b[39;00m\u001b[38;5;21;01m.\u001b[39;00m\u001b[38;5;21;01msqlalchemy\u001b[39;00m \u001b[38;5;28;01mimport\u001b[39;00m URL \u001b[38;5;28;01mas\u001b[39;00m SnowflakeURL\n\u001b[1;32m     15\u001b[0m \u001b[38;5;28;01mfrom\u001b[39;00m \u001b[38;5;21;01msqlalchemy\u001b[39;00m\u001b[38;5;21;01m.\u001b[39;00m\u001b[38;5;21;01morm\u001b[39;00m \u001b[38;5;28;01mimport\u001b[39;00m Session\n\u001b[1;32m     16\u001b[0m \u001b[38;5;28;01mfrom\u001b[39;00m \u001b[38;5;21;01mpydantic\u001b[39;00m \u001b[38;5;28;01mimport\u001b[39;00m SecretStr\n",
      "File \u001b[0;32m~/opt/anaconda3/envs/humble-database/lib/python3.11/site-packages/snowflake/sqlalchemy/__init__.py:30\u001b[0m\n\u001b[1;32m     10\u001b[0m     \u001b[38;5;28;01mimport\u001b[39;00m \u001b[38;5;21;01mimportlib\u001b[39;00m\u001b[38;5;21;01m.\u001b[39;00m\u001b[38;5;21;01mmetadata\u001b[39;00m \u001b[38;5;28;01mas\u001b[39;00m \u001b[38;5;21;01mimportlib_metadata\u001b[39;00m\n\u001b[1;32m     12\u001b[0m \u001b[38;5;28;01mfrom\u001b[39;00m \u001b[38;5;21;01msqlalchemy\u001b[39;00m\u001b[38;5;21;01m.\u001b[39;00m\u001b[38;5;21;01mtypes\u001b[39;00m \u001b[38;5;28;01mimport\u001b[39;00m (\n\u001b[1;32m     13\u001b[0m     BIGINT,\n\u001b[1;32m     14\u001b[0m     BINARY,\n\u001b[0;32m   (...)\u001b[0m\n\u001b[1;32m     27\u001b[0m     VARCHAR,\n\u001b[1;32m     28\u001b[0m )\n\u001b[0;32m---> 30\u001b[0m \u001b[38;5;28;01mfrom\u001b[39;00m \u001b[38;5;21;01m.\u001b[39;00m \u001b[38;5;28;01mimport\u001b[39;00m base, snowdialect\n\u001b[1;32m     31\u001b[0m \u001b[38;5;28;01mfrom\u001b[39;00m \u001b[38;5;21;01m.\u001b[39;00m\u001b[38;5;21;01mcustom_commands\u001b[39;00m \u001b[38;5;28;01mimport\u001b[39;00m (\n\u001b[1;32m     32\u001b[0m     AWSBucket,\n\u001b[1;32m     33\u001b[0m     AzureContainer,\n\u001b[0;32m   (...)\u001b[0m\n\u001b[1;32m     42\u001b[0m     PARQUETFormatter,\n\u001b[1;32m     43\u001b[0m )\n\u001b[1;32m     44\u001b[0m \u001b[38;5;28;01mfrom\u001b[39;00m \u001b[38;5;21;01m.\u001b[39;00m\u001b[38;5;21;01mcustom_types\u001b[39;00m \u001b[38;5;28;01mimport\u001b[39;00m (\n\u001b[1;32m     45\u001b[0m     ARRAY,\n\u001b[1;32m     46\u001b[0m     BYTEINT,\n\u001b[0;32m   (...)\u001b[0m\n\u001b[1;32m     62\u001b[0m     VARIANT,\n\u001b[1;32m     63\u001b[0m )\n",
      "File \u001b[0;32m~/opt/anaconda3/envs/humble-database/lib/python3.11/site-packages/snowflake/sqlalchemy/base.py:23\u001b[0m\n\u001b[1;32m     20\u001b[0m \u001b[38;5;28;01mfrom\u001b[39;00m \u001b[38;5;21;01msqlalchemy\u001b[39;00m\u001b[38;5;21;01m.\u001b[39;00m\u001b[38;5;21;01mutil\u001b[39;00m\u001b[38;5;21;01m.\u001b[39;00m\u001b[38;5;21;01mcompat\u001b[39;00m \u001b[38;5;28;01mimport\u001b[39;00m string_types\n\u001b[1;32m     22\u001b[0m \u001b[38;5;28;01mfrom\u001b[39;00m \u001b[38;5;21;01m.\u001b[39;00m\u001b[38;5;21;01mcustom_commands\u001b[39;00m \u001b[38;5;28;01mimport\u001b[39;00m AWSBucket, AzureContainer, ExternalStage\n\u001b[0;32m---> 23\u001b[0m \u001b[38;5;28;01mfrom\u001b[39;00m \u001b[38;5;21;01m.\u001b[39;00m\u001b[38;5;21;01mutil\u001b[39;00m \u001b[38;5;28;01mimport\u001b[39;00m (\n\u001b[1;32m     24\u001b[0m     _find_left_clause_to_join_from,\n\u001b[1;32m     25\u001b[0m     _set_connection_interpolate_empty_sequences,\n\u001b[1;32m     26\u001b[0m     _Snowflake_ORMJoin,\n\u001b[1;32m     27\u001b[0m     _Snowflake_Selectable_Join,\n\u001b[1;32m     28\u001b[0m )\n\u001b[1;32m     30\u001b[0m RESERVED_WORDS \u001b[38;5;241m=\u001b[39m \u001b[38;5;28mfrozenset\u001b[39m(\n\u001b[1;32m     31\u001b[0m     [\n\u001b[1;32m     32\u001b[0m         \u001b[38;5;124m\"\u001b[39m\u001b[38;5;124mALL\u001b[39m\u001b[38;5;124m\"\u001b[39m,  \u001b[38;5;66;03m# ANSI Reserved words\u001b[39;00m\n\u001b[0;32m   (...)\u001b[0m\n\u001b[1;32m     90\u001b[0m     ]\n\u001b[1;32m     91\u001b[0m )\n\u001b[1;32m     93\u001b[0m \u001b[38;5;66;03m# Snowflake DML:\u001b[39;00m\n\u001b[1;32m     94\u001b[0m \u001b[38;5;66;03m# - UPDATE\u001b[39;00m\n\u001b[1;32m     95\u001b[0m \u001b[38;5;66;03m# - INSERT\u001b[39;00m\n\u001b[1;32m     96\u001b[0m \u001b[38;5;66;03m# - DELETE\u001b[39;00m\n\u001b[1;32m     97\u001b[0m \u001b[38;5;66;03m# - MERGE\u001b[39;00m\n",
      "File \u001b[0;32m~/opt/anaconda3/envs/humble-database/lib/python3.11/site-packages/snowflake/sqlalchemy/util.py:20\u001b[0m\n\u001b[1;32m     17\u001b[0m \u001b[38;5;28;01mfrom\u001b[39;00m \u001b[38;5;21;01msqlalchemy\u001b[39;00m\u001b[38;5;21;01m.\u001b[39;00m\u001b[38;5;21;01msql\u001b[39;00m\u001b[38;5;21;01m.\u001b[39;00m\u001b[38;5;21;01melements\u001b[39;00m \u001b[38;5;28;01mimport\u001b[39;00m _find_columns\n\u001b[1;32m     18\u001b[0m \u001b[38;5;28;01mfrom\u001b[39;00m \u001b[38;5;21;01msqlalchemy\u001b[39;00m\u001b[38;5;21;01m.\u001b[39;00m\u001b[38;5;21;01msql\u001b[39;00m\u001b[38;5;21;01m.\u001b[39;00m\u001b[38;5;21;01mselectable\u001b[39;00m \u001b[38;5;28;01mimport\u001b[39;00m Join, Lateral, coercions, operators, roles\n\u001b[0;32m---> 20\u001b[0m \u001b[38;5;28;01mfrom\u001b[39;00m \u001b[38;5;21;01msnowflake\u001b[39;00m\u001b[38;5;21;01m.\u001b[39;00m\u001b[38;5;21;01mconnector\u001b[39;00m\u001b[38;5;21;01m.\u001b[39;00m\u001b[38;5;21;01mcompat\u001b[39;00m \u001b[38;5;28;01mimport\u001b[39;00m IS_STR\n\u001b[1;32m     21\u001b[0m \u001b[38;5;28;01mfrom\u001b[39;00m \u001b[38;5;21;01msnowflake\u001b[39;00m\u001b[38;5;21;01m.\u001b[39;00m\u001b[38;5;21;01mconnector\u001b[39;00m\u001b[38;5;21;01m.\u001b[39;00m\u001b[38;5;21;01mconnection\u001b[39;00m \u001b[38;5;28;01mimport\u001b[39;00m SnowflakeConnection\n\u001b[1;32m     23\u001b[0m \u001b[38;5;28;01mfrom\u001b[39;00m \u001b[38;5;21;01m.\u001b[39;00m\u001b[38;5;21;01m_constants\u001b[39;00m \u001b[38;5;28;01mimport\u001b[39;00m (\n\u001b[1;32m     24\u001b[0m     APPLICATION_NAME,\n\u001b[1;32m     25\u001b[0m     PARAM_APPLICATION,\n\u001b[0;32m   (...)\u001b[0m\n\u001b[1;32m     28\u001b[0m     SNOWFLAKE_SQLALCHEMY_VERSION,\n\u001b[1;32m     29\u001b[0m )\n",
      "File \u001b[0;32m~/opt/anaconda3/envs/humble-database/lib/python3.11/site-packages/snowflake/connector/__init__.py:17\u001b[0m\n\u001b[1;32m     14\u001b[0m \u001b[38;5;28;01mimport\u001b[39;00m \u001b[38;5;21;01mlogging\u001b[39;00m\n\u001b[1;32m     15\u001b[0m \u001b[38;5;28;01mfrom\u001b[39;00m \u001b[38;5;21;01mlogging\u001b[39;00m \u001b[38;5;28;01mimport\u001b[39;00m NullHandler\n\u001b[0;32m---> 17\u001b[0m \u001b[38;5;28;01mfrom\u001b[39;00m \u001b[38;5;21;01m.\u001b[39;00m\u001b[38;5;21;01mconnection\u001b[39;00m \u001b[38;5;28;01mimport\u001b[39;00m SnowflakeConnection\n\u001b[1;32m     18\u001b[0m \u001b[38;5;28;01mfrom\u001b[39;00m \u001b[38;5;21;01m.\u001b[39;00m\u001b[38;5;21;01mcursor\u001b[39;00m \u001b[38;5;28;01mimport\u001b[39;00m DictCursor\n\u001b[1;32m     19\u001b[0m \u001b[38;5;28;01mfrom\u001b[39;00m \u001b[38;5;21;01m.\u001b[39;00m\u001b[38;5;21;01mdbapi\u001b[39;00m \u001b[38;5;28;01mimport\u001b[39;00m (\n\u001b[1;32m     20\u001b[0m     BINARY,\n\u001b[1;32m     21\u001b[0m     DATETIME,\n\u001b[0;32m   (...)\u001b[0m\n\u001b[1;32m     31\u001b[0m     TimestampFromTicks,\n\u001b[1;32m     32\u001b[0m )\n",
      "File \u001b[0;32m~/opt/anaconda3/envs/humble-database/lib/python3.11/site-packages/snowflake/connector/connection.py:29\u001b[0m\n\u001b[1;32m     27\u001b[0m \u001b[38;5;28;01mfrom\u001b[39;00m \u001b[38;5;21;01m.\u001b[39;00m \u001b[38;5;28;01mimport\u001b[39;00m errors, proxy\n\u001b[1;32m     28\u001b[0m \u001b[38;5;28;01mfrom\u001b[39;00m \u001b[38;5;21;01m.\u001b[39;00m\u001b[38;5;21;01m_query_context_cache\u001b[39;00m \u001b[38;5;28;01mimport\u001b[39;00m QueryContextCache\n\u001b[0;32m---> 29\u001b[0m \u001b[38;5;28;01mfrom\u001b[39;00m \u001b[38;5;21;01m.\u001b[39;00m\u001b[38;5;21;01mauth\u001b[39;00m \u001b[38;5;28;01mimport\u001b[39;00m (\n\u001b[1;32m     30\u001b[0m     FIRST_PARTY_AUTHENTICATORS,\n\u001b[1;32m     31\u001b[0m     Auth,\n\u001b[1;32m     32\u001b[0m     AuthByDefault,\n\u001b[1;32m     33\u001b[0m     AuthByKeyPair,\n\u001b[1;32m     34\u001b[0m     AuthByOAuth,\n\u001b[1;32m     35\u001b[0m     AuthByOkta,\n\u001b[1;32m     36\u001b[0m     AuthByPlugin,\n\u001b[1;32m     37\u001b[0m     AuthByUsrPwdMfa,\n\u001b[1;32m     38\u001b[0m     AuthByWebBrowser,\n\u001b[1;32m     39\u001b[0m )\n\u001b[1;32m     40\u001b[0m \u001b[38;5;28;01mfrom\u001b[39;00m \u001b[38;5;21;01m.\u001b[39;00m\u001b[38;5;21;01mauth\u001b[39;00m\u001b[38;5;21;01m.\u001b[39;00m\u001b[38;5;21;01midtoken\u001b[39;00m \u001b[38;5;28;01mimport\u001b[39;00m AuthByIdToken\n\u001b[1;32m     41\u001b[0m \u001b[38;5;28;01mfrom\u001b[39;00m \u001b[38;5;21;01m.\u001b[39;00m\u001b[38;5;21;01mbind_upload_agent\u001b[39;00m \u001b[38;5;28;01mimport\u001b[39;00m BindUploadError\n",
      "File \u001b[0;32m~/opt/anaconda3/envs/humble-database/lib/python3.11/site-packages/snowflake/connector/auth/__init__.py:7\u001b[0m\n\u001b[1;32m      1\u001b[0m \u001b[38;5;66;03m#\u001b[39;00m\n\u001b[1;32m      2\u001b[0m \u001b[38;5;66;03m# Copyright (c) 2012-2023 Snowflake Computing Inc. All rights reserved.\u001b[39;00m\n\u001b[1;32m      3\u001b[0m \u001b[38;5;66;03m#\u001b[39;00m\n\u001b[1;32m      5\u001b[0m \u001b[38;5;28;01mfrom\u001b[39;00m \u001b[38;5;21;01m__future__\u001b[39;00m \u001b[38;5;28;01mimport\u001b[39;00m annotations\n\u001b[0;32m----> 7\u001b[0m \u001b[38;5;28;01mfrom\u001b[39;00m \u001b[38;5;21;01m.\u001b[39;00m\u001b[38;5;21;01m_auth\u001b[39;00m \u001b[38;5;28;01mimport\u001b[39;00m Auth, get_public_key_fingerprint, get_token_from_private_key\n\u001b[1;32m      8\u001b[0m \u001b[38;5;28;01mfrom\u001b[39;00m \u001b[38;5;21;01m.\u001b[39;00m\u001b[38;5;21;01mby_plugin\u001b[39;00m \u001b[38;5;28;01mimport\u001b[39;00m AuthByPlugin, AuthType\n\u001b[1;32m      9\u001b[0m \u001b[38;5;28;01mfrom\u001b[39;00m \u001b[38;5;21;01m.\u001b[39;00m\u001b[38;5;21;01mdefault\u001b[39;00m \u001b[38;5;28;01mimport\u001b[39;00m AuthByDefault\n",
      "File \u001b[0;32m~/opt/anaconda3/envs/humble-database/lib/python3.11/site-packages/snowflake/connector/auth/_auth.py:21\u001b[0m\n\u001b[1;32m     18\u001b[0m \u001b[38;5;28;01mfrom\u001b[39;00m \u001b[38;5;21;01mtyping\u001b[39;00m \u001b[38;5;28;01mimport\u001b[39;00m TYPE_CHECKING, Any, Callable\n\u001b[1;32m     20\u001b[0m \u001b[38;5;28;01mfrom\u001b[39;00m \u001b[38;5;21;01mcryptography\u001b[39;00m\u001b[38;5;21;01m.\u001b[39;00m\u001b[38;5;21;01mhazmat\u001b[39;00m\u001b[38;5;21;01m.\u001b[39;00m\u001b[38;5;21;01mbackends\u001b[39;00m \u001b[38;5;28;01mimport\u001b[39;00m default_backend\n\u001b[0;32m---> 21\u001b[0m \u001b[38;5;28;01mfrom\u001b[39;00m \u001b[38;5;21;01mcryptography\u001b[39;00m\u001b[38;5;21;01m.\u001b[39;00m\u001b[38;5;21;01mhazmat\u001b[39;00m\u001b[38;5;21;01m.\u001b[39;00m\u001b[38;5;21;01mprimitives\u001b[39;00m\u001b[38;5;21;01m.\u001b[39;00m\u001b[38;5;21;01mserialization\u001b[39;00m \u001b[38;5;28;01mimport\u001b[39;00m (\n\u001b[1;32m     22\u001b[0m     Encoding,\n\u001b[1;32m     23\u001b[0m     NoEncryption,\n\u001b[1;32m     24\u001b[0m     PrivateFormat,\n\u001b[1;32m     25\u001b[0m     load_der_private_key,\n\u001b[1;32m     26\u001b[0m     load_pem_private_key,\n\u001b[1;32m     27\u001b[0m )\n\u001b[1;32m     29\u001b[0m \u001b[38;5;28;01mfrom\u001b[39;00m \u001b[38;5;21;01m.\u001b[39;00m\u001b[38;5;21;01m.\u001b[39;00m\u001b[38;5;21;01mcompat\u001b[39;00m \u001b[38;5;28;01mimport\u001b[39;00m IS_LINUX, IS_MACOS, IS_WINDOWS, urlencode\n\u001b[1;32m     30\u001b[0m \u001b[38;5;28;01mfrom\u001b[39;00m \u001b[38;5;21;01m.\u001b[39;00m\u001b[38;5;21;01m.\u001b[39;00m\u001b[38;5;21;01mconstants\u001b[39;00m \u001b[38;5;28;01mimport\u001b[39;00m (\n\u001b[1;32m     31\u001b[0m     DAY_IN_SECONDS,\n\u001b[1;32m     32\u001b[0m     HTTP_HEADER_ACCEPT,\n\u001b[0;32m   (...)\u001b[0m\n\u001b[1;32m     37\u001b[0m     PARAMETER_CLIENT_STORE_TEMPORARY_CREDENTIAL,\n\u001b[1;32m     38\u001b[0m )\n",
      "File \u001b[0;32m~/opt/anaconda3/envs/humble-database/lib/python3.11/site-packages/cryptography/hazmat/primitives/serialization/__init__.py:16\u001b[0m\n\u001b[1;32m      1\u001b[0m \u001b[38;5;66;03m# This file is dual licensed under the terms of the Apache License, Version\u001b[39;00m\n\u001b[1;32m      2\u001b[0m \u001b[38;5;66;03m# 2.0, and the BSD License. See the LICENSE file in the root of this repository\u001b[39;00m\n\u001b[1;32m      3\u001b[0m \u001b[38;5;66;03m# for complete details.\u001b[39;00m\n\u001b[1;32m      6\u001b[0m \u001b[38;5;28;01mfrom\u001b[39;00m \u001b[38;5;21;01mcryptography\u001b[39;00m\u001b[38;5;21;01m.\u001b[39;00m\u001b[38;5;21;01mhazmat\u001b[39;00m\u001b[38;5;21;01m.\u001b[39;00m\u001b[38;5;21;01mprimitives\u001b[39;00m\u001b[38;5;21;01m.\u001b[39;00m\u001b[38;5;21;01m_serialization\u001b[39;00m \u001b[38;5;28;01mimport\u001b[39;00m (\n\u001b[1;32m      7\u001b[0m     BestAvailableEncryption,\n\u001b[1;32m      8\u001b[0m     Encoding,\n\u001b[0;32m   (...)\u001b[0m\n\u001b[1;32m     14\u001b[0m     _KeySerializationEncryption,\n\u001b[1;32m     15\u001b[0m )\n\u001b[0;32m---> 16\u001b[0m \u001b[38;5;28;01mfrom\u001b[39;00m \u001b[38;5;21;01mcryptography\u001b[39;00m\u001b[38;5;21;01m.\u001b[39;00m\u001b[38;5;21;01mhazmat\u001b[39;00m\u001b[38;5;21;01m.\u001b[39;00m\u001b[38;5;21;01mprimitives\u001b[39;00m\u001b[38;5;21;01m.\u001b[39;00m\u001b[38;5;21;01mserialization\u001b[39;00m\u001b[38;5;21;01m.\u001b[39;00m\u001b[38;5;21;01mbase\u001b[39;00m \u001b[38;5;28;01mimport\u001b[39;00m (\n\u001b[1;32m     17\u001b[0m     load_der_parameters,\n\u001b[1;32m     18\u001b[0m     load_der_private_key,\n\u001b[1;32m     19\u001b[0m     load_der_public_key,\n\u001b[1;32m     20\u001b[0m     load_pem_parameters,\n\u001b[1;32m     21\u001b[0m     load_pem_private_key,\n\u001b[1;32m     22\u001b[0m     load_pem_public_key,\n\u001b[1;32m     23\u001b[0m )\n\u001b[1;32m     24\u001b[0m \u001b[38;5;28;01mfrom\u001b[39;00m \u001b[38;5;21;01mcryptography\u001b[39;00m\u001b[38;5;21;01m.\u001b[39;00m\u001b[38;5;21;01mhazmat\u001b[39;00m\u001b[38;5;21;01m.\u001b[39;00m\u001b[38;5;21;01mprimitives\u001b[39;00m\u001b[38;5;21;01m.\u001b[39;00m\u001b[38;5;21;01mserialization\u001b[39;00m\u001b[38;5;21;01m.\u001b[39;00m\u001b[38;5;21;01mssh\u001b[39;00m \u001b[38;5;28;01mimport\u001b[39;00m (\n\u001b[1;32m     25\u001b[0m     load_ssh_private_key,\n\u001b[1;32m     26\u001b[0m     load_ssh_public_key,\n\u001b[1;32m     27\u001b[0m )\n\u001b[1;32m     30\u001b[0m __all__ \u001b[38;5;241m=\u001b[39m [\n\u001b[1;32m     31\u001b[0m     \u001b[38;5;124m\"\u001b[39m\u001b[38;5;124mload_der_parameters\u001b[39m\u001b[38;5;124m\"\u001b[39m,\n\u001b[1;32m     32\u001b[0m     \u001b[38;5;124m\"\u001b[39m\u001b[38;5;124mload_der_private_key\u001b[39m\u001b[38;5;124m\"\u001b[39m,\n\u001b[0;32m   (...)\u001b[0m\n\u001b[1;32m     46\u001b[0m     \u001b[38;5;124m\"\u001b[39m\u001b[38;5;124m_KeySerializationEncryption\u001b[39m\u001b[38;5;124m\"\u001b[39m,\n\u001b[1;32m     47\u001b[0m ]\n",
      "File \u001b[0;32m~/opt/anaconda3/envs/humble-database/lib/python3.11/site-packages/cryptography/hazmat/primitives/serialization/base.py:9\u001b[0m\n\u001b[1;32m      6\u001b[0m \u001b[38;5;28;01mimport\u001b[39;00m \u001b[38;5;21;01mtyping\u001b[39;00m\n\u001b[1;32m      8\u001b[0m \u001b[38;5;28;01mfrom\u001b[39;00m \u001b[38;5;21;01mcryptography\u001b[39;00m\u001b[38;5;21;01m.\u001b[39;00m\u001b[38;5;21;01mhazmat\u001b[39;00m\u001b[38;5;21;01m.\u001b[39;00m\u001b[38;5;21;01mprimitives\u001b[39;00m\u001b[38;5;21;01m.\u001b[39;00m\u001b[38;5;21;01masymmetric\u001b[39;00m \u001b[38;5;28;01mimport\u001b[39;00m dh\n\u001b[0;32m----> 9\u001b[0m \u001b[38;5;28;01mfrom\u001b[39;00m \u001b[38;5;21;01mcryptography\u001b[39;00m\u001b[38;5;21;01m.\u001b[39;00m\u001b[38;5;21;01mhazmat\u001b[39;00m\u001b[38;5;21;01m.\u001b[39;00m\u001b[38;5;21;01mprimitives\u001b[39;00m\u001b[38;5;21;01m.\u001b[39;00m\u001b[38;5;21;01masymmetric\u001b[39;00m\u001b[38;5;21;01m.\u001b[39;00m\u001b[38;5;21;01mtypes\u001b[39;00m \u001b[38;5;28;01mimport\u001b[39;00m (\n\u001b[1;32m     10\u001b[0m     PRIVATE_KEY_TYPES,\n\u001b[1;32m     11\u001b[0m     PUBLIC_KEY_TYPES,\n\u001b[1;32m     12\u001b[0m )\n\u001b[1;32m     15\u001b[0m \u001b[38;5;28;01mdef\u001b[39;00m \u001b[38;5;21mload_pem_private_key\u001b[39m(\n\u001b[1;32m     16\u001b[0m     data: \u001b[38;5;28mbytes\u001b[39m,\n\u001b[1;32m     17\u001b[0m     password: typing\u001b[38;5;241m.\u001b[39mOptional[\u001b[38;5;28mbytes\u001b[39m],\n\u001b[1;32m     18\u001b[0m     backend: typing\u001b[38;5;241m.\u001b[39mAny \u001b[38;5;241m=\u001b[39m \u001b[38;5;28;01mNone\u001b[39;00m,\n\u001b[1;32m     19\u001b[0m ) \u001b[38;5;241m-\u001b[39m\u001b[38;5;241m>\u001b[39m PRIVATE_KEY_TYPES:\n\u001b[1;32m     20\u001b[0m     \u001b[38;5;28;01mfrom\u001b[39;00m \u001b[38;5;21;01mcryptography\u001b[39;00m\u001b[38;5;21;01m.\u001b[39;00m\u001b[38;5;21;01mhazmat\u001b[39;00m\u001b[38;5;21;01m.\u001b[39;00m\u001b[38;5;21;01mbackends\u001b[39;00m\u001b[38;5;21;01m.\u001b[39;00m\u001b[38;5;21;01mopenssl\u001b[39;00m\u001b[38;5;21;01m.\u001b[39;00m\u001b[38;5;21;01mbackend\u001b[39;00m \u001b[38;5;28;01mimport\u001b[39;00m backend \u001b[38;5;28;01mas\u001b[39;00m ossl\n",
      "File \u001b[0;32m~/opt/anaconda3/envs/humble-database/lib/python3.11/site-packages/cryptography/hazmat/primitives/asymmetric/types.py:7\u001b[0m\n\u001b[1;32m      1\u001b[0m \u001b[38;5;66;03m# This file is dual licensed under the terms of the Apache License, Version\u001b[39;00m\n\u001b[1;32m      2\u001b[0m \u001b[38;5;66;03m# 2.0, and the BSD License. See the LICENSE file in the root of this repository\u001b[39;00m\n\u001b[1;32m      3\u001b[0m \u001b[38;5;66;03m# for complete details.\u001b[39;00m\n\u001b[1;32m      5\u001b[0m \u001b[38;5;28;01mimport\u001b[39;00m \u001b[38;5;21;01mtyping\u001b[39;00m\n\u001b[0;32m----> 7\u001b[0m \u001b[38;5;28;01mfrom\u001b[39;00m \u001b[38;5;21;01mcryptography\u001b[39;00m\u001b[38;5;21;01m.\u001b[39;00m\u001b[38;5;21;01mhazmat\u001b[39;00m\u001b[38;5;21;01m.\u001b[39;00m\u001b[38;5;21;01mprimitives\u001b[39;00m\u001b[38;5;21;01m.\u001b[39;00m\u001b[38;5;21;01masymmetric\u001b[39;00m \u001b[38;5;28;01mimport\u001b[39;00m (\n\u001b[1;32m      8\u001b[0m     dh,\n\u001b[1;32m      9\u001b[0m     dsa,\n\u001b[1;32m     10\u001b[0m     ec,\n\u001b[1;32m     11\u001b[0m     ed25519,\n\u001b[1;32m     12\u001b[0m     ed448,\n\u001b[1;32m     13\u001b[0m     rsa,\n\u001b[1;32m     14\u001b[0m     x25519,\n\u001b[1;32m     15\u001b[0m     x448,\n\u001b[1;32m     16\u001b[0m )\n\u001b[1;32m     19\u001b[0m \u001b[38;5;66;03m# Every asymmetric key type\u001b[39;00m\n\u001b[1;32m     20\u001b[0m PUBLIC_KEY_TYPES \u001b[38;5;241m=\u001b[39m typing\u001b[38;5;241m.\u001b[39mUnion[\n\u001b[1;32m     21\u001b[0m     dh\u001b[38;5;241m.\u001b[39mDHPublicKey,\n\u001b[1;32m     22\u001b[0m     dsa\u001b[38;5;241m.\u001b[39mDSAPublicKey,\n\u001b[0;32m   (...)\u001b[0m\n\u001b[1;32m     28\u001b[0m     x448\u001b[38;5;241m.\u001b[39mX448PublicKey,\n\u001b[1;32m     29\u001b[0m ]\n",
      "File \u001b[0;32m~/opt/anaconda3/envs/humble-database/lib/python3.11/site-packages/cryptography/hazmat/primitives/asymmetric/dsa.py:10\u001b[0m\n\u001b[1;32m      7\u001b[0m \u001b[38;5;28;01mimport\u001b[39;00m \u001b[38;5;21;01mtyping\u001b[39;00m\n\u001b[1;32m      9\u001b[0m \u001b[38;5;28;01mfrom\u001b[39;00m \u001b[38;5;21;01mcryptography\u001b[39;00m\u001b[38;5;21;01m.\u001b[39;00m\u001b[38;5;21;01mhazmat\u001b[39;00m\u001b[38;5;21;01m.\u001b[39;00m\u001b[38;5;21;01mprimitives\u001b[39;00m \u001b[38;5;28;01mimport\u001b[39;00m _serialization, hashes\n\u001b[0;32m---> 10\u001b[0m \u001b[38;5;28;01mfrom\u001b[39;00m \u001b[38;5;21;01mcryptography\u001b[39;00m\u001b[38;5;21;01m.\u001b[39;00m\u001b[38;5;21;01mhazmat\u001b[39;00m\u001b[38;5;21;01m.\u001b[39;00m\u001b[38;5;21;01mprimitives\u001b[39;00m\u001b[38;5;21;01m.\u001b[39;00m\u001b[38;5;21;01masymmetric\u001b[39;00m \u001b[38;5;28;01mimport\u001b[39;00m (\n\u001b[1;32m     11\u001b[0m     utils \u001b[38;5;28;01mas\u001b[39;00m asym_utils,\n\u001b[1;32m     12\u001b[0m )\n\u001b[1;32m     15\u001b[0m \u001b[38;5;28;01mclass\u001b[39;00m \u001b[38;5;21;01mDSAParameters\u001b[39;00m(metaclass\u001b[38;5;241m=\u001b[39mabc\u001b[38;5;241m.\u001b[39mABCMeta):\n\u001b[1;32m     16\u001b[0m     \u001b[38;5;129m@abc\u001b[39m\u001b[38;5;241m.\u001b[39mabstractmethod\n\u001b[1;32m     17\u001b[0m     \u001b[38;5;28;01mdef\u001b[39;00m \u001b[38;5;21mgenerate_private_key\u001b[39m(\u001b[38;5;28mself\u001b[39m) \u001b[38;5;241m-\u001b[39m\u001b[38;5;241m>\u001b[39m \u001b[38;5;124m\"\u001b[39m\u001b[38;5;124mDSAPrivateKey\u001b[39m\u001b[38;5;124m\"\u001b[39m:\n",
      "File \u001b[0;32m~/opt/anaconda3/envs/humble-database/lib/python3.11/site-packages/cryptography/hazmat/primitives/asymmetric/utils.py:6\u001b[0m\n\u001b[1;32m      1\u001b[0m \u001b[38;5;66;03m# This file is dual licensed under the terms of the Apache License, Version\u001b[39;00m\n\u001b[1;32m      2\u001b[0m \u001b[38;5;66;03m# 2.0, and the BSD License. See the LICENSE file in the root of this repository\u001b[39;00m\n\u001b[1;32m      3\u001b[0m \u001b[38;5;66;03m# for complete details.\u001b[39;00m\n\u001b[0;32m----> 6\u001b[0m \u001b[38;5;28;01mfrom\u001b[39;00m \u001b[38;5;21;01mcryptography\u001b[39;00m\u001b[38;5;21;01m.\u001b[39;00m\u001b[38;5;21;01mhazmat\u001b[39;00m\u001b[38;5;21;01m.\u001b[39;00m\u001b[38;5;21;01mbindings\u001b[39;00m\u001b[38;5;21;01m.\u001b[39;00m\u001b[38;5;21;01m_rust\u001b[39;00m \u001b[38;5;28;01mimport\u001b[39;00m asn1\n\u001b[1;32m      7\u001b[0m \u001b[38;5;28;01mfrom\u001b[39;00m \u001b[38;5;21;01mcryptography\u001b[39;00m\u001b[38;5;21;01m.\u001b[39;00m\u001b[38;5;21;01mhazmat\u001b[39;00m\u001b[38;5;21;01m.\u001b[39;00m\u001b[38;5;21;01mprimitives\u001b[39;00m \u001b[38;5;28;01mimport\u001b[39;00m hashes\n\u001b[1;32m     10\u001b[0m decode_dss_signature \u001b[38;5;241m=\u001b[39m asn1\u001b[38;5;241m.\u001b[39mdecode_dss_signature\n",
      "\u001b[0;31mImportError\u001b[0m: dlopen(/Users/schlinkertc/opt/anaconda3/envs/humble-database/lib/python3.11/site-packages/cryptography/hazmat/bindings/_rust.abi3.so, 0x0002): tried: '/Users/schlinkertc/opt/anaconda3/envs/humble-database/lib/python3.11/site-packages/cryptography/hazmat/bindings/_rust.abi3.so' (mach-o file, but is an incompatible architecture (have 'arm64', need 'x86_64')), '/System/Volumes/Preboot/Cryptexes/OS/Users/schlinkertc/opt/anaconda3/envs/humble-database/lib/python3.11/site-packages/cryptography/hazmat/bindings/_rust.abi3.so' (no such file), '/Users/schlinkertc/opt/anaconda3/envs/humble-database/lib/python3.11/site-packages/cryptography/hazmat/bindings/_rust.abi3.so' (mach-o file, but is an incompatible architecture (have 'arm64', need 'x86_64'))"
     ]
    }
   ],
   "source": [
    "#| exporti\n",
    "\n",
    "from humble_database.utils import delegates\n",
    "\n",
    "## SQL Alchemy version\n",
    "import sqlalchemy\n",
    "if int(sqlalchemy.__version__[0]) < 2:\n",
    "    from sqlalchemy.engine.url import URL\n",
    "    from sqlalchemy.engine import create_engine,Engine\n",
    "\n",
    "else:\n",
    "    from sqlalchemy import URL\n",
    "    from sqlalchemy import create_engine, Engine\n",
    "from snowflake.sqlalchemy import URL as SnowflakeURL\n",
    "from sqlalchemy.orm import Session\n",
    "from pydantic import SecretStr\n",
    "from pydantic_settings import BaseSettings, SettingsConfigDict\n",
    "from typing import Optional,Union\n",
    "from abc import ABC, abstractproperty,abstractmethod\n",
    "from contextlib import contextmanager\n",
    "import pandas as pd\n",
    "from sqlalchemy import text"
   ]
  },
  {
   "cell_type": "code",
   "execution_count": null,
   "id": "707cc41e-ac32-430c-8091-0d3a50f680ea",
   "metadata": {},
   "outputs": [],
   "source": [
    "#| hide \n",
    "\n",
    "from nbdev.showdoc import show_doc\n",
    "import os"
   ]
  },
  {
   "cell_type": "markdown",
   "id": "992c5b1f-e194-4838-9b78-7846b79b625a",
   "metadata": {},
   "source": [
    "## SQL Alchemy Connection\n",
    "> To create our Database connections, we will use SQL Alchemy's `URL` object"
   ]
  },
  {
   "cell_type": "markdown",
   "id": "b37bfb3d-a9bd-45a1-8dba-89df912dca3b",
   "metadata": {},
   "source": [
    "The following is from the SQL Alchemy fucntional documentation:"
   ]
  },
  {
   "cell_type": "code",
   "execution_count": null,
   "id": "724477ef-16a0-4d2a-9196-ea0f29cce067",
   "metadata": {},
   "outputs": [],
   "source": [
    "show_doc(URL.create)"
   ]
  },
  {
   "cell_type": "markdown",
   "id": "2b9f29da-4f95-48c5-87f1-84795d56f958",
   "metadata": {},
   "source": [
    "## Database Settings\n",
    "> A Pydantic model that controls argumetns passed to the SQL alchemy URL constructor"
   ]
  },
  {
   "cell_type": "code",
   "execution_count": null,
   "id": "89a7229c-abea-4668-badd-48193b3c8383",
   "metadata": {},
   "outputs": [],
   "source": [
    "#| exporti\n",
    "\n",
    "class DatabaseSettingsBase(BaseSettings):\n",
    "    username: Optional[str]=None\n",
    "    password: Optional[SecretStr]=None"
   ]
  },
  {
   "cell_type": "code",
   "execution_count": null,
   "id": "fcb31d1c-7f16-4ceb-8604-24d082d5d820",
   "metadata": {},
   "outputs": [],
   "source": [
    "#| exporti\n",
    "\n",
    "class DatabaseSettings(DatabaseSettingsBase):\n",
    "    drivername:str \n",
    "    host: Optional[str]=None\n",
    "    port: Optional[int]=None\n",
    "    database: Optional[str]=None\n",
    "    query: dict[str,str]={}\n",
    "    "
   ]
  },
  {
   "cell_type": "code",
   "execution_count": null,
   "id": "d58734d1-51a2-4857-8c71-54f57ed73ee8",
   "metadata": {},
   "outputs": [],
   "source": [
    "#| exporti \n",
    "\n",
    "class SnowflakeSettings(DatabaseSettingsBase):\n",
    "\n",
    "    \"\"\"Passed to special Snowflake URL constructor\"\"\"\n",
    "    model_config = SettingsConfigDict(env_prefix='snowflake_',env_file = '.env')\n",
    "    \n",
    "    account: str = 'rentprogress'\n",
    "    database: Optional[str] = 'TRANSFORM_PROD'\n",
    "    snowflake_schema: Optional[str] = Field(\n",
    "        'EDW',\n",
    "        env='snowflake_schema',\n",
    "        alias='schema',\n",
    "        description=\"\"\"passed to the SQLAlchemy URL constructor as 'schema', \n",
    "        but we need to alias it to avoid clashing with 'BaseSettings'\"\"\")\n",
    "    warehouse: Optional[str] = 'ADHOC_WH'\n",
    "    role: Optional[str] = 'DATA_DEVELOPER'\n",
    "    numpy: Optional[bool] = True\n",
    "\n",
    "    "
   ]
  },
  {
   "cell_type": "code",
   "execution_count": null,
   "id": "e494f111-d76b-4af0-9f44-5b52a5e50945",
   "metadata": {},
   "outputs": [],
   "source": [
    "settings = DatabaseSettings(\n",
    "    drivername='sqlite',\n",
    "    database='test.db',\n",
    ")\n",
    "settings"
   ]
  },
  {
   "cell_type": "code",
   "execution_count": null,
   "id": "bd49174a-97b5-4dd9-be4e-f6e6db65db91",
   "metadata": {},
   "outputs": [],
   "source": [
    "url = URL.create(\n",
    "    **settings.model_dump()\n",
    ")\n",
    "engine = create_engine(url)\n",
    "engine"
   ]
  },
  {
   "cell_type": "markdown",
   "id": "066325fc-b486-402f-8bdb-52e36e1e54ea",
   "metadata": {},
   "source": [
    "#### Why use Pydantic for Database Settings? \n",
    "> Pydantic's `BaseSettings` object comes with support for environment variables and secret strings"
   ]
  },
  {
   "cell_type": "code",
   "execution_count": null,
   "id": "d910403f-dcef-4882-a54e-dd34a92da706",
   "metadata": {},
   "outputs": [],
   "source": [
    "# set some environment variables\n",
    "os.environ['username']='humble_chuck'\n",
    "os.environ['password']='super secret passkey'\n",
    "\n",
    "# pydantic automatically reads them\n",
    "settings = DatabaseSettings(drivername='mysql')\n",
    "assert settings.username == 'humble_chuck'\n",
    "\n",
    "# pydantic also keeps your password safe from displays\n",
    "print(f\"password prints as a secret: {settings.password}\")\n",
    "\n",
    "# by default, __init__ values take precedence over environment variables\n",
    "alternate_settings = DatabaseSettings(drivername='mysql',username='some_other_person')\n",
    "assert alternate_settings.username == 'some_other_person'\n",
    "\n",
    "for k in ('username','password'):\n",
    "    os.environ.pop(k)"
   ]
  },
  {
   "cell_type": "code",
   "execution_count": null,
   "id": "64eb5dd6-1c6a-42fa-974e-7c1eeb368d5d",
   "metadata": {},
   "outputs": [],
   "source": [
    "#| export\n",
    "\n",
    "class AbstractDatabaseClass(ABC):\n",
    "\n",
    "    \"\"\"\n",
    "    Abstract Base Class used to define methods for all Database Connections. \n",
    "\n",
    "    A seperate Base Class is required because Snowflake Database Settings will behave differently, and thus they will need their own Database Settings class.\n",
    "    \"\"\"\n",
    "\n",
    "    def query_to_records(\n",
    "        self,\n",
    "        query_string:str,\n",
    "    ):\n",
    "        with self._engine.connect() as conn:\n",
    "            results = [row for row in conn.execute(text(query_string)).mappings()]\n",
    "        return results\n",
    "\n",
    "    @delegates(pd.read_sql_query)\n",
    "    def query_to_df(\n",
    "        self,\n",
    "        query_string,\n",
    "        **kwargs\n",
    "    ):\n",
    "        f\"\"\"{pd.read_sql_query.__doc__}\"\"\"\n",
    "        with self._engine.connect() as conn:\n",
    "            df = pd.read_sql_query(query_string,conn,**kwargs)\n",
    "        return df\n",
    "\n",
    "    @contextmanager\n",
    "    def engine_scope(self,**kwargs):\n",
    "        with self._engine.connect() as conn: \n",
    "            try:\n",
    "                yield conn\n",
    "                conn.commit()\n",
    "            except:\n",
    "                conn.rollback()\n",
    "                raise\n",
    "            finally:\n",
    "                conn.close()\n",
    "                \n",
    "    @contextmanager\n",
    "    def session_scope(self,bind=None,**kwargs):\n",
    "        \"\"\"Provide a transactional scope around a series of operations.\"\"\"\n",
    "\n",
    "        session = Session(bind=self._engine,**kwargs)\n",
    "        try:\n",
    "            yield session\n",
    "            session.commit()\n",
    "        except:\n",
    "            session.rollback()\n",
    "            raise\n",
    "        finally:\n",
    "            session.close()\n"
   ]
  },
  {
   "cell_type": "code",
   "execution_count": null,
   "id": "a9f65f97-aab6-46bd-86c2-46818ee6daf3",
   "metadata": {},
   "outputs": [],
   "source": [
    "#| export \n",
    "\n",
    "class Database(DatabaseSettings,AbstractDatabaseClass):\n",
    "    \"\"\"\n",
    "    Create a Database connection with default functionality. \n",
    "    \n",
    "    Inherits attributes from `DatabaseSettings` to manage credentials. Inherits methods from `AbstractDatabaseClass`.\n",
    "\n",
    "    Use the class as-is to quickly create a database connection, or create a subclass to control connections to a specific database.\n",
    "    \n",
    "    More on SQL Alchemy engines from [SQLAlchemy docs](https://docs.sqlalchemy.org/en/13/core/engines.html):\n",
    "    \n",
    "    - The Engine is the starting point for any SQLAlchemy application. It’s “home base” for the actual database and its DBAPI.  \n",
    "    - An Engine references both a Dialect and a Pool, which together interpret the DBAPI’s module functions as well as the behavior of the database \n",
    "    - Pool object which will establish a DBAPI connection at localhost:5432 when a connection request is first received  \n",
    "    -- Note that the Engine and its underlying Pool do **not** establish the first actual DBAPI connection until the Engine.connect() method is called, or an operation which is dependent on this method such as Engine.execute() is invoked.\n",
    "    - In this way, Engine and Pool can be said to have a lazy initialization behavior.  \n",
    "    - The Engine, once created, can either be used directly to interact with the database, or can be passed to a Session object to work with the ORM.  \n",
    "    \"\"\"\n",
    "    _engine:Engine = None\n",
    "    _engine_url:URL = None\n",
    "\n",
    "    def __init__(\n",
    "        self,\n",
    "        **kwargs\n",
    "    ):\n",
    "        # settings __init__\n",
    "        super().__init__(**kwargs)\n",
    "        if hasattr(self.password,'get_secret_value'):\n",
    "            \n",
    "            password = self.password.get_secret_value()\n",
    "            \n",
    "        else:\n",
    "            password = self.password\n",
    "        url = URL.create(\n",
    "            drivername=self.drivername,\n",
    "            username=self.username,\n",
    "            password=password,\n",
    "            host=self.host,\n",
    "            port=self.port,\n",
    "            database=self.database,\n",
    "            query=self.query\n",
    "        )\n",
    "        self._engine_url=url\n",
    "        self._engine=create_engine(url)\n",
    "\n",
    "    \n",
    "    model_config = SettingsConfigDict(\n",
    "        #allows for attributes of `database settings` to be set as defaults in subclasses without type annotation\n",
    "        ignored_types=(int,str,dict),\n",
    "        arbitrary_types_allowed=True\n",
    "    )\n",
    "    "
   ]
  },
  {
   "cell_type": "code",
   "execution_count": null,
   "id": "db653da1-0daf-49e0-9590-d9c9e8f5c7fd",
   "metadata": {},
   "outputs": [],
   "source": [
    "#| export \n",
    "\n",
    "class Snowflake(SnowflakeSettings,AbstractDatabaseClass):\n",
    "    \"\"\"\n",
    "    Create a Database connection with default functionality. \n",
    "    \n",
    "    Inherits attributes from `DatabaseSettings` to manage credentials. Inherits methods from `AbstractDatabaseClass`.\n",
    "\n",
    "    Use the class as-is to quickly create a database connection, or create a subclass to control connections to a specific database.\n",
    "    \n",
    "    More on SQL Alchemy engines from [SQLAlchemy docs](https://docs.sqlalchemy.org/en/13/core/engines.html):\n",
    "    \n",
    "    - The Engine is the starting point for any SQLAlchemy application. It’s “home base” for the actual database and its DBAPI.  \n",
    "    - An Engine references both a Dialect and a Pool, which together interpret the DBAPI’s module functions as well as the behavior of the database \n",
    "    - Pool object which will establish a DBAPI connection at localhost:5432 when a connection request is first received  \n",
    "    -- Note that the Engine and its underlying Pool do **not** establish the first actual DBAPI connection until the Engine.connect() method is called, or an operation which is dependent on this method such as Engine.execute() is invoked.\n",
    "    - In this way, Engine and Pool can be said to have a lazy initialization behavior.  \n",
    "    - The Engine, once created, can either be used directly to interact with the database, or can be passed to a Session object to work with the ORM.  \n",
    "    \"\"\"\n",
    "    _engine:Engine = None\n",
    "    _engine_url:URL = None\n",
    "\n",
    "    def __init__(\n",
    "        self,\n",
    "        **kwargs\n",
    "    ):\n",
    "        # settings __init__\n",
    "        super().__init__(**kwargs)\n",
    "        if hasattr(self.password,'get_secret_value'):\n",
    "            \n",
    "            password = self.password.get_secret_value()\n",
    "            \n",
    "        else:\n",
    "            password = self.password\n",
    "        url = SnowflakeURL(\n",
    "            user=self.username,\n",
    "            password=password,\n",
    "            account=self.account,\n",
    "            warehouse=self.warehouse,\n",
    "            database=self.database,\n",
    "            schema = self.snowflake_schema,\n",
    "            numpy=self.numpy\n",
    "        )\n",
    "        self._engine_url=url\n",
    "        self._engine=create_engine(url)\n",
    "\n",
    "    \n",
    "    model_config = SettingsConfigDict(\n",
    "        #allows for attributes of `database settings` to be set as defaults in subclasses without type annotation\n",
    "        ignored_types=(int,str,dict),\n",
    "        arbitrary_types_allowed=True,\n",
    "        \n",
    "    )"
   ]
  },
  {
   "cell_type": "markdown",
   "id": "071dc30a-bd7c-47f7-ab8b-0d6d1193b29b",
   "metadata": {},
   "source": [
    "## Examples:"
   ]
  },
  {
   "cell_type": "markdown",
   "id": "63fe6ae8-5414-43c1-9234-5dc39af521bb",
   "metadata": {},
   "source": [
    "To use the `Database` as-is, pass the desired variables to the constructor: "
   ]
  },
  {
   "cell_type": "code",
   "execution_count": null,
   "id": "ed817d43-703b-46d1-b34c-a0e60ff81acf",
   "metadata": {},
   "outputs": [],
   "source": [
    "db = Database(drivername='sqlite',database='test.db')\n",
    "print(db)\n",
    "\n",
    "users = pd.DataFrame({\n",
    "    'id':[1,2,3],\n",
    "    'user':['larry','moe','curly']\n",
    "})\n",
    "\n",
    "with db.engine_scope() as conn:\n",
    "    users.to_sql('users',conn,if_exists='replace',index=False)\n",
    "\n",
    "queried = db.query_to_df(\"select * from users\")\n",
    "\n",
    "assert queried.equals(users)\n",
    "os.remove('test.db')"
   ]
  },
  {
   "cell_type": "markdown",
   "id": "6669811c-3daf-4024-adcc-14b9cd53dd9c",
   "metadata": {},
   "source": [
    "### Create a sub-class to handle connections to a specific database"
   ]
  },
  {
   "cell_type": "code",
   "execution_count": null,
   "id": "2a293d79-0b0d-42de-a759-1dfec01bff35",
   "metadata": {},
   "outputs": [],
   "source": [
    "class RNACentralDatabase(Database):\n",
    "    model_config = SettingsConfigDict(env_prefix='rna_db_')\n",
    "    \n",
    "    drivername='postgresql'\n",
    "    database='pfmegrnargs'\n",
    "    host='hh-pgsql-public.ebi.ac.uk'\n",
    "    port=5432\n",
    "    \n",
    "\n",
    "os.environ['rna_db_username']='reader'\n",
    "os.environ['rna_db_password']='NWDMCE5xdipIjRrp'\n",
    "\n",
    "rna_db = RNACentralDatabase()\n",
    "rna_db"
   ]
  },
  {
   "cell_type": "code",
   "execution_count": null,
   "id": "a42b3b4b-a13b-419b-9999-56bc4a6044ff",
   "metadata": {},
   "outputs": [],
   "source": [
    "rna_db.query_to_df(\"\"\"select * from rnc_database limit 5\"\"\")"
   ]
  },
  {
   "cell_type": "code",
   "execution_count": null,
   "id": "4d69abdb-d77e-4f0d-aaf7-5688afd715d8",
   "metadata": {},
   "outputs": [],
   "source": [
    "rna_db.query_to_records(\"select id,timestamp from rnc_database limit 1\")[0]"
   ]
  },
  {
   "cell_type": "code",
   "execution_count": null,
   "id": "e723e8cf-c875-4c86-a561-3c43ce4d29d4",
   "metadata": {},
   "outputs": [],
   "source": [
    "with rna_db.engine_scope() as conn: \n",
    "    result = conn.execute(text(\"\"\"select * from rnc_database limit 5\"\"\"))\n",
    "    print(result.fetchall()[0])"
   ]
  },
  {
   "cell_type": "code",
   "execution_count": null,
   "id": "4b551b19-bc76-4c6a-899d-e743ba2f34ba",
   "metadata": {},
   "outputs": [],
   "source": [
    "#| hide\n",
    "\n",
    "!nbdev_export"
   ]
  },
  {
   "cell_type": "code",
   "execution_count": null,
   "id": "3493dba3-4cf9-4e84-a8bc-7b09d2139d4b",
   "metadata": {},
   "outputs": [],
   "source": []
  }
 ],
 "metadata": {
  "kernelspec": {
   "display_name": "python3",
   "language": "python",
   "name": "python3"
  }
 },
 "nbformat": 4,
 "nbformat_minor": 5
}
