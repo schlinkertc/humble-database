{
 "cells": [
  {
   "cell_type": "code",
   "execution_count": null,
   "id": "c8242522-1d6c-4183-aabc-d33e4347804b",
   "metadata": {},
   "outputs": [],
   "source": [
    "#| default_exp utils"
   ]
  },
  {
   "cell_type": "code",
   "execution_count": null,
   "id": "a29a5498-9933-4152-af01-cbb492be3e31",
   "metadata": {},
   "outputs": [],
   "source": [
    "#| exporti \n",
    "\n",
    "import inspect"
   ]
  },
  {
   "cell_type": "markdown",
   "id": "c41cca7d-161e-4574-b8e7-04c36a860645",
   "metadata": {},
   "source": [
    "## Delegates"
   ]
  },
  {
   "cell_type": "code",
   "execution_count": null,
   "id": "45fe5402-402c-409b-b08b-9c72f88fe306",
   "metadata": {},
   "outputs": [],
   "source": [
    "\n",
    "#|export\n",
    "\n",
    "def delegates(to=None, keep=False):\n",
    "    \"Decorator: replace `**kwargs` in signature with params from `to`\"\n",
    "    def _f(f):\n",
    "        if to is None: to_f,from_f = f.__base__.__init__,f.__init__\n",
    "        else:          to_f,from_f = to,f\n",
    "        sig = inspect.signature(from_f)\n",
    "        sigd = dict(sig.parameters)\n",
    "        k = sigd.pop('kwargs')\n",
    "        s2 = {k:v for k,v in inspect.signature(to_f).parameters.items()\n",
    "              if v.default != inspect.Parameter.empty and k not in sigd}\n",
    "        sigd.update(s2)\n",
    "        if keep: sigd['kwargs'] = k\n",
    "        from_f.__signature__ = sig.replace(parameters=sigd.values())\n",
    "        return f\n",
    "    return _f"
   ]
  },
  {
   "cell_type": "code",
   "execution_count": null,
   "id": "587ab003-a0c0-4dad-aa3e-74768290b158",
   "metadata": {},
   "outputs": [],
   "source": [
    "#| hide\n",
    "!nbdev_export "
   ]
  },
  {
   "cell_type": "code",
   "execution_count": null,
   "id": "94d48597-4e79-4129-b318-95660c4351fc",
   "metadata": {},
   "outputs": [],
   "source": []
  }
 ],
 "metadata": {
  "kernelspec": {
   "display_name": "python3",
   "language": "python",
   "name": "python3"
  }
 },
 "nbformat": 4,
 "nbformat_minor": 5
}
