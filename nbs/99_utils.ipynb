{
 "cells": [
  {
   "cell_type": "code",
   "execution_count": null,
   "id": "c8242522-1d6c-4183-aabc-d33e4347804b",
   "metadata": {},
   "outputs": [],
   "source": [
    "#| default_exp utils"
   ]
  },
  {
   "cell_type": "markdown",
   "id": "d84030e2-e2a7-45e5-aeee-989134023b56",
   "metadata": {},
   "source": [
    "# utils\n",
    "> Assorted utility functions"
   ]
  },
  {
   "cell_type": "code",
   "execution_count": null,
   "id": "a29a5498-9933-4152-af01-cbb492be3e31",
   "metadata": {},
   "outputs": [],
   "source": [
    "#| exporti \n",
    "\n",
    "import inspect"
   ]
  },
  {
   "cell_type": "markdown",
   "id": "c41cca7d-161e-4574-b8e7-04c36a860645",
   "metadata": {},
   "source": [
    "## Delegation\n",
    "> A decorator that allows us to share parameters from one function to another"
   ]
  },
  {
   "cell_type": "markdown",
   "id": "7b7c28f5-2d65-44f3-9305-738fecfe0336",
   "metadata": {},
   "source": [
    "This function is adapted from [this brilliant blog post](https://www.fast.ai/posts/2019-08-06-delegation.html#solving-the-problem-with-delegated-composition) by Jeremy Howard that outlines the advantages of delegation in Python. We will use this decorator to adapt several Pandas functions for our use cases. "
   ]
  },
  {
   "cell_type": "code",
   "execution_count": null,
   "id": "45fe5402-402c-409b-b08b-9c72f88fe306",
   "metadata": {},
   "outputs": [],
   "source": [
    "\n",
    "#|export\n",
    "\n",
    "def delegates(to=None, keep=False):\n",
    "    \"Decorator: replace `**kwargs` in signature with params from `to`\"\n",
    "    def _f(f):\n",
    "        if to is None: to_f,from_f = f.__base__.__init__,f.__init__\n",
    "        else:          to_f,from_f = to,f\n",
    "        sig = inspect.signature(from_f)\n",
    "        sigd = dict(sig.parameters)\n",
    "        k = sigd.pop('kwargs')\n",
    "        s2 = {k:v for k,v in inspect.signature(to_f).parameters.items()\n",
    "              if v.default != inspect.Parameter.empty and k not in sigd}\n",
    "        sigd.update(s2)\n",
    "        if keep: sigd['kwargs'] = k\n",
    "        from_f.__signature__ = sig.replace(parameters=sigd.values())\n",
    "        return f\n",
    "    return _f"
   ]
  },
  {
   "cell_type": "markdown",
   "id": "c8b1056a-1a21-494d-8418-6fa59f87404e",
   "metadata": {},
   "source": [
    "### Delegation example"
   ]
  },
  {
   "cell_type": "code",
   "execution_count": null,
   "id": "16dc5e0a-b582-41c8-8e05-d7e84cebd98a",
   "metadata": {},
   "outputs": [],
   "source": [
    "from nbdev.showdoc import show_doc"
   ]
  },
  {
   "cell_type": "markdown",
   "id": "735fbd9f-4a2c-435f-8cb6-f4013f6eb10f",
   "metadata": {},
   "source": [
    "Example: Create a fuction called `break_the_ice` that delegates to another function called `say_hi`:"
   ]
  },
  {
   "cell_type": "code",
   "execution_count": null,
   "id": "1b699180-2fd7-4930-af84-cd8feff553a0",
   "metadata": {},
   "outputs": [
    {
     "data": {
      "text/markdown": [
       "---\n",
       "\n",
       "### break_the_ice\n",
       "\n",
       ">      break_the_ice (fun_fact:str, name:str=None)"
      ],
      "text/plain": [
       "---\n",
       "\n",
       "### break_the_ice\n",
       "\n",
       ">      break_the_ice (fun_fact:str, name:str=None)"
      ]
     },
     "execution_count": null,
     "metadata": {},
     "output_type": "execute_result"
    }
   ],
   "source": [
    "\n",
    "def say_hi(name:str=None):\n",
    "    return f\"Hi! my name is {name}.\"\n",
    "    \n",
    "\n",
    "@delegates(say_hi)\n",
    "def break_the_ice(fun_fact:str,**kwargs):\n",
    "    \n",
    "    hi = say_hi(name=kwargs['name'])\n",
    "    intro = hi + ' ' + fun_fact\n",
    "    return intro\n",
    "    \n",
    "\n",
    "show_doc(break_the_ice)"
   ]
  },
  {
   "cell_type": "code",
   "execution_count": null,
   "id": "ba81981d-c2cd-4f05-8f4b-15a0f1b1102c",
   "metadata": {},
   "outputs": [
    {
     "data": {
      "text/plain": [
       "'Hi! my name is Charlie. I like music'"
      ]
     },
     "execution_count": null,
     "metadata": {},
     "output_type": "execute_result"
    }
   ],
   "source": [
    "break_the_ice(name='Charlie',fun_fact='I like music')"
   ]
  },
  {
   "cell_type": "markdown",
   "id": "720a1fd3-9246-473c-b14b-e3c8b04e05ad",
   "metadata": {},
   "source": [
    ":::{.callout-warning}\n",
    "The function that you're delegating to (i.e. the function within the call of the decorator) **must** have default values for the parameters that you want to pass to the decorated function \n",
    ":::"
   ]
  },
  {
   "cell_type": "code",
   "execution_count": null,
   "id": "15ab6e1a-48de-4c29-bd5e-24c9b02b08a6",
   "metadata": {},
   "outputs": [
    {
     "data": {
      "text/markdown": [
       "---\n",
       "\n",
       "### second_function\n",
       "\n",
       ">      second_function (another_param:str, this_will_show:str=None)"
      ],
      "text/plain": [
       "---\n",
       "\n",
       "### second_function\n",
       "\n",
       ">      second_function (another_param:str, this_will_show:str=None)"
      ]
     },
     "execution_count": null,
     "metadata": {},
     "output_type": "execute_result"
    }
   ],
   "source": [
    "def first_function(\n",
    "    this_wont_show:str,\n",
    "    this_will_show:str=None\n",
    "):\n",
    "    pass \n",
    "\n",
    "@delegates(first_function)\n",
    "def second_function(\n",
    "    another_param:str,\n",
    "    **kwargs\n",
    "):\n",
    "    pass\n",
    "\n",
    "show_doc(second_function)"
   ]
  },
  {
   "cell_type": "code",
   "execution_count": null,
   "id": "587ab003-a0c0-4dad-aa3e-74768290b158",
   "metadata": {},
   "outputs": [],
   "source": [
    "#| hide\n",
    "!nbdev_export "
   ]
  },
  {
   "cell_type": "code",
   "execution_count": null,
   "id": "94d48597-4e79-4129-b318-95660c4351fc",
   "metadata": {},
   "outputs": [],
   "source": []
  }
 ],
 "metadata": {
  "kernelspec": {
   "display_name": "Python 3 (ipykernel)",
   "language": "python",
   "name": "python3"
  }
 },
 "nbformat": 4,
 "nbformat_minor": 5
}
